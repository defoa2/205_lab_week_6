{
 "cells": [
  {
   "cell_type": "markdown",
   "id": "6167ebde",
   "metadata": {},
   "source": [
    "# Data Wrangling 1.2"
   ]
  },
  {
   "cell_type": "code",
   "execution_count": null,
   "id": "74cf8f2e",
   "metadata": {},
   "outputs": [],
   "source": [
    "import csv\n",
    "\n",
    "import math\n",
    "import numpy as np\n",
    "import pandas as pd\n",
    "\n",
    "import psycopg2\n"
   ]
  },
  {
   "cell_type": "code",
   "execution_count": null,
   "id": "b2ff6069",
   "metadata": {},
   "outputs": [],
   "source": [
    "#\n",
    "# function to run a select query and return rows in a pandas dataframe\n",
    "# pandas puts all numeric values from postgres to float\n",
    "# if it will fit in an integer, change it to integer\n",
    "#\n",
    "\n",
    "def my_select_query_pandas(query, rollback_before_flag, rollback_after_flag):\n",
    "    \"function to run a select query and return rows in a pandas dataframe\"\n",
    "    \n",
    "    if rollback_before_flag:\n",
    "        connection.rollback()\n",
    "    \n",
    "    df = pd.read_sql_query(query, connection)\n",
    "    \n",
    "    if rollback_after_flag:\n",
    "        connection.rollback()\n",
    "    \n",
    "    # fix the float columns that really should be integers\n",
    "    \n",
    "    for column in df:\n",
    "    \n",
    "        if df[column].dtype == \"float64\":\n",
    "\n",
    "            fraction_flag = False\n",
    "\n",
    "            for value in df[column].values:\n",
    "                \n",
    "                if not np.isnan(value):\n",
    "                    if value - math.floor(value) != 0:\n",
    "                        fraction_flag = True\n",
    "\n",
    "            if not fraction_flag:\n",
    "                df[column] = df[column].astype('Int64')\n",
    "    \n",
    "    return(df)\n",
    "    "
   ]
  },
  {
   "cell_type": "code",
   "execution_count": null,
   "id": "7386855a",
   "metadata": {},
   "outputs": [],
   "source": [
    "connection = psycopg2.connect(\n",
    "    user = \"postgres\",\n",
    "    password = \"ucb\",\n",
    "    host = \"postgres\",\n",
    "    port = \"5432\",\n",
    "    database = \"postgres\"\n",
    ")"
   ]
  },
  {
   "cell_type": "code",
   "execution_count": null,
   "id": "769ded2c",
   "metadata": {},
   "outputs": [],
   "source": [
    "cursor = connection.cursor()"
   ]
  },
  {
   "cell_type": "markdown",
   "id": "ea5cdaa9",
   "metadata": {},
   "source": [
    "# Lab: Reading CSV Files"
   ]
  },
  {
   "cell_type": "code",
   "execution_count": null,
   "id": "6f4b7663",
   "metadata": {},
   "outputs": [],
   "source": [
    "def my_read_csv_file(file_name, limit):\n",
    "    \"read the csv file and print only the first limit rows\"\n",
    "    \n",
    "    csv_file = open(file_name, \"r\")\n",
    "    \n",
    "    csv_data = csv.reader(csv_file)\n",
    "    \n",
    "    i = 0\n",
    "    \n",
    "    for row in csv_data:\n",
    "        i += 1\n",
    "        if i <= limit:\n",
    "            print(row)\n",
    "            \n",
    "    print(\"\\nPrinted \", min(limit, i), \"lines of \", i, \"total lines.\")"
   ]
  },
  {
   "cell_type": "code",
   "execution_count": null,
   "id": "cb926a90",
   "metadata": {},
   "outputs": [],
   "source": [
    "my_read_csv_file(\"temp_stores.csv\", limit=10)"
   ]
  },
  {
   "cell_type": "code",
   "execution_count": null,
   "id": "89c15903",
   "metadata": {},
   "outputs": [],
   "source": [
    "my_read_csv_file(\"temp_sales.csv\", limit=10)"
   ]
  },
  {
   "cell_type": "code",
   "execution_count": null,
   "id": "585825fd",
   "metadata": {},
   "outputs": [],
   "source": [
    "my_read_csv_file(\"temp_random_sales.csv\", limit=100)"
   ]
  },
  {
   "cell_type": "markdown",
   "id": "e5efddf7",
   "metadata": {},
   "source": [
    "## You try it - read and print out some lines from the following csv files: temp_line_items.csv, temp_customers.csv, temp_products, temp_holidays"
   ]
  },
  {
   "cell_type": "markdown",
   "id": "c16b4c8d",
   "metadata": {},
   "source": [
    "# Lab: Loading CSV Data into Database Tables"
   ]
  },
  {
   "cell_type": "code",
   "execution_count": null,
   "id": "5bb709d6",
   "metadata": {},
   "outputs": [],
   "source": [
    "#\n",
    "# drop all the temp tables in the foreign key order\n",
    "#\n",
    "\n",
    "connection.rollback()\n",
    "\n",
    "query = \"\"\"\n",
    "\n",
    "drop table if exists temp_line_items;\n",
    "drop table if exists temp_sales;\n",
    "drop table if exists temp_products;\n",
    "drop table if exists temp_customers;\n",
    "drop table if exists temp_stores;\n",
    "drop table if exists temp_holidays;\n",
    "drop table if exists temp_random_sales;\n",
    "\n",
    "\n",
    "\"\"\"\n",
    "\n",
    "cursor.execute(query)\n",
    "\n",
    "connection.commit()\n",
    "\n"
   ]
  },
  {
   "cell_type": "code",
   "execution_count": null,
   "id": "5bf75783",
   "metadata": {},
   "outputs": [],
   "source": [
    "#\n",
    "# create all the temp tables in the foreign key order\n",
    "#\n",
    "\n",
    "connection.rollback()\n",
    "\n",
    "query = \"\"\"\n",
    "\n",
    "create table temp_holidays (\n",
    "  holiday_date date,\n",
    "  description varchar(32),\n",
    "  closed_flag boolean,\n",
    "  primary key (holiday_date)\n",
    ");\n",
    "\n",
    "create table temp_products (\n",
    "  product_id numeric(3),\n",
    "  description varchar(32),\n",
    "  primary key (product_id)\n",
    ");\n",
    "\n",
    "create table temp_stores (\n",
    "  store_id numeric(6),\n",
    "  street varchar(32),\n",
    "  city varchar(32),\n",
    "  state varchar(2),\n",
    "  zip varchar(5),\n",
    "  latitude numeric(7,4),\n",
    "  longitude numeric(7,4),\n",
    "  primary key (store_id)\n",
    ");\n",
    "\n",
    "create table temp_customers (\n",
    "  customer_id numeric(6),\n",
    "  first_name varchar(32),\n",
    "  last_name varchar(32),\n",
    "  street varchar(32),\n",
    "  city varchar(32),\n",
    "  state varchar(2),\n",
    "  zip varchar(5),\n",
    "  closest_store_id numeric(6),\n",
    "  distance numeric(3),\n",
    "  primary key (customer_id),\n",
    "  foreign key (closest_store_id) references temp_stores(store_id)\n",
    ");\n",
    "\n",
    "create table temp_sales (\n",
    "  store_id numeric(6),\n",
    "  sale_id numeric(8),\n",
    "  customer_id numeric(6),\n",
    "  sale_date date,\n",
    "  total_amount numeric(5),\n",
    "  primary key (store_id, sale_id),\n",
    "  foreign key (customer_id) references temp_customers (customer_id)\n",
    ");\n",
    "\n",
    "create table temp_line_items (\n",
    "  store_id numeric(6),\n",
    "  sale_id numeric(8),\n",
    "  line_item_id numeric(3),\n",
    "  product_id numeric(3),\n",
    "  quantity numeric(3),\n",
    "  primary key (store_id, sale_id, line_item_id),\n",
    "  foreign key (product_id) references temp_products (product_id)\n",
    ");\n",
    "\n",
    "create table temp_random_sales (\n",
    "  store_id numeric(6),\n",
    "  sale_id numeric(8)\n",
    ")\n",
    "\n",
    "\"\"\"\n",
    "\n",
    "cursor.execute(query)\n",
    "\n",
    "connection.commit()"
   ]
  },
  {
   "cell_type": "code",
   "execution_count": null,
   "id": "23b7766e",
   "metadata": {},
   "outputs": [],
   "source": [
    "#\n",
    "# load the csv files into the database tables in foreign key order\n",
    "#\n",
    "\n",
    "connection.rollback()\n",
    "\n",
    "query = \"\"\"\n",
    "\n",
    "copy temp_stores\n",
    "from '/user/labs/week_06/temp_stores.csv' delimiter ',' NULL '' csv header;\n",
    "\n",
    "copy temp_customers\n",
    "from '/user/labs/week_06/temp_customers.csv' delimiter ',' NULL '' csv header;\n",
    "\n",
    "copy temp_sales\n",
    "from '/user/labs/week_06/temp_sales.csv' delimiter ',' NULL '' csv header;\n",
    "\n",
    "copy temp_random_sales\n",
    "from '/user/labs/week_06/temp_random_sales.csv' delimiter ',' NULL '' csv header;\n",
    "\n",
    "\n",
    "\"\"\"\n",
    "\n",
    "cursor.execute(query)\n",
    "\n",
    "connection.commit()"
   ]
  },
  {
   "cell_type": "code",
   "execution_count": null,
   "id": "280f2d79",
   "metadata": {},
   "outputs": [],
   "source": [
    "rollback_before_flag = True\n",
    "rollback_after_flag = True\n",
    "\n",
    "query = \"\"\"\n",
    "\n",
    "select * \n",
    "from temp_stores;\n",
    "\n",
    "\"\"\"\n",
    "\n",
    "my_select_query_pandas(query, rollback_before_flag, rollback_after_flag)"
   ]
  },
  {
   "cell_type": "code",
   "execution_count": null,
   "id": "39471f02",
   "metadata": {},
   "outputs": [],
   "source": [
    "rollback_before_flag = True\n",
    "rollback_after_flag = True\n",
    "\n",
    "query = \"\"\"\n",
    "\n",
    "select * \n",
    "from temp_customers;\n",
    "\n",
    "\"\"\"\n",
    "\n",
    "my_select_query_pandas(query, rollback_before_flag, rollback_after_flag)"
   ]
  },
  {
   "cell_type": "code",
   "execution_count": null,
   "id": "523e5904",
   "metadata": {},
   "outputs": [],
   "source": [
    "rollback_before_flag = True\n",
    "rollback_after_flag = True\n",
    "\n",
    "query = \"\"\"\n",
    "\n",
    "select * \n",
    "from temp_sales;\n",
    "\n",
    "\"\"\"\n",
    "\n",
    "my_select_query_pandas(query, rollback_before_flag, rollback_after_flag)"
   ]
  },
  {
   "cell_type": "code",
   "execution_count": null,
   "id": "45d27e73",
   "metadata": {},
   "outputs": [],
   "source": [
    "rollback_before_flag = True\n",
    "rollback_after_flag = True\n",
    "\n",
    "query = \"\"\"\n",
    "\n",
    "select * \n",
    "from temp_random_sales;\n",
    "\n",
    "\"\"\"\n",
    "\n",
    "my_select_query_pandas(query, rollback_before_flag, rollback_after_flag)"
   ]
  },
  {
   "cell_type": "markdown",
   "id": "cc6db04b",
   "metadata": {},
   "source": [
    "## You try it - \n",
    "* load the file temp_holidays.csv into the table temp_holidays \n",
    "* temp_products.csv into table temp_products\n",
    "* temp_line_items into table temp_line_items \n",
    "* verify the loads with a query"
   ]
  },
  {
   "cell_type": "markdown",
   "id": "db9dd1ec",
   "metadata": {},
   "source": [
    "# Lab: Extracting CSV Files"
   ]
  },
  {
   "cell_type": "code",
   "execution_count": null,
   "id": "b5bc267e",
   "metadata": {},
   "outputs": [],
   "source": [
    "connection.rollback()\n",
    "    \n",
    "query = \"\"\"\n",
    "    \n",
    "copy (select * \n",
    "      from temp_random_sales\n",
    "      order by store_id, sale_id)\n",
    "to '/user/labs/week_06/temp_random_sales_2.csv' delimiter ',' NULL '' csv header;\n",
    "\n",
    "copy (select * \n",
    "      from temp_stores \n",
    "      order by store_id)\n",
    "to '/user/labs/week_06/temp_stores_2.csv' delimiter ',' NULL '' csv header;\n",
    "\n",
    "\n",
    "\"\"\"\n",
    "\n",
    "cursor.execute(query)\n",
    "    \n",
    "connection.commit()\n"
   ]
  },
  {
   "cell_type": "code",
   "execution_count": null,
   "id": "af8fafaf",
   "metadata": {},
   "outputs": [],
   "source": [
    "my_read_csv_file(\"temp_random_sales_2.csv\", limit=10)"
   ]
  },
  {
   "cell_type": "code",
   "execution_count": null,
   "id": "96aa6fa4",
   "metadata": {},
   "outputs": [],
   "source": [
    "my_read_csv_file(\"temp_stores_2.csv\", limit=10)"
   ]
  },
  {
   "cell_type": "markdown",
   "id": "e2bb6c3e",
   "metadata": {},
   "source": [
    "## You try it - \n",
    "* extract the table temp_sales table to temp_sales_2.csv\n",
    "* table temp_line_items to temp_line_items_2.csv\n",
    "* table temp_customers to temp_customers_2.csv \n",
    "* table temp_products to temp_products_2.csv\n",
    "* table temp_holidays to temp_holidays_2.csv\n",
    "* verify by reading the csv files"
   ]
  },
  {
   "cell_type": "code",
   "execution_count": null,
   "id": "3b873c16",
   "metadata": {},
   "outputs": [],
   "source": []
  }
 ],
 "metadata": {
  "kernelspec": {
   "display_name": "Python 3 (ipykernel)",
   "language": "python",
   "name": "python3"
  },
  "language_info": {
   "codemirror_mode": {
    "name": "ipython",
    "version": 3
   },
   "file_extension": ".py",
   "mimetype": "text/x-python",
   "name": "python",
   "nbconvert_exporter": "python",
   "pygments_lexer": "ipython3",
   "version": "3.9.7"
  }
 },
 "nbformat": 4,
 "nbformat_minor": 5
}
