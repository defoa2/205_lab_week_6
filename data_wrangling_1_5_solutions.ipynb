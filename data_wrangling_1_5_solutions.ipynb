{
 "cells": [
  {
   "cell_type": "markdown",
   "id": "6167ebde",
   "metadata": {},
   "source": [
    "# Data Wrangling 1.5 Solutions"
   ]
  },
  {
   "cell_type": "code",
   "execution_count": null,
   "id": "9047b6c3",
   "metadata": {},
   "outputs": [],
   "source": [
    "import openpyxl\n",
    "\n",
    "import psycopg2\n",
    "\n",
    "import json\n",
    "\n",
    "import csv\n",
    "\n",
    "import openpyxl"
   ]
  },
  {
   "cell_type": "code",
   "execution_count": null,
   "id": "9bf5460e",
   "metadata": {},
   "outputs": [],
   "source": [
    "connection = psycopg2.connect(\n",
    "    user = \"postgres\",\n",
    "    password = \"ucb\",\n",
    "    host = \"postgres\",\n",
    "    port = \"5432\",\n",
    "    database = \"postgres\"\n",
    ")"
   ]
  },
  {
   "cell_type": "code",
   "execution_count": null,
   "id": "5acd1a90",
   "metadata": {},
   "outputs": [],
   "source": [
    "cursor = connection.cursor()"
   ]
  },
  {
   "cell_type": "code",
   "execution_count": null,
   "id": "bbf9b555",
   "metadata": {},
   "outputs": [],
   "source": [
    "def my_read_excel_work_book_sheet(excel_file_name, sheet_name, limit):\n",
    "    \"open the excel file, find the sheet_name, print the number of rows specified\"\n",
    "    \n",
    "    work_book = openpyxl.load_workbook(excel_file_name)\n",
    "    \n",
    "    work_sheet = work_book[sheet_name]\n",
    "                                       \n",
    "    print(\"\\nExcel Workbook:\", excel_file_name)\n",
    "          \n",
    "    print(\"\\nWork Sheet:\", sheet_name)\n",
    "    \n",
    "    print(\"\\nNumber of Columns:\", work_sheet.max_column)\n",
    "          \n",
    "    print(\"\\nNumber of Rows:\", work_sheet.max_row)\n",
    "    \n",
    "    work_sheet_list = []\n",
    "    \n",
    "    for i in range(1,work_sheet.max_row+1):\n",
    "        \n",
    "        row_list = []\n",
    "        \n",
    "        for j in range(1,work_sheet.max_column+1):\n",
    "            \n",
    "            row_list.append(work_sheet.cell(row = i, column = j).value)\n",
    "            \n",
    "        work_sheet_list.append(row_list)\n",
    "    \n",
    "    print(\"\\nPrinting the first\", limit, \"rows :\\n\")\n",
    "    \n",
    "    i = 0\n",
    "    for row in work_sheet_list:\n",
    "        print(row)\n",
    "        i += 1\n",
    "        if i == limit:\n",
    "            break"
   ]
  },
  {
   "cell_type": "markdown",
   "id": "094cb91b",
   "metadata": {},
   "source": [
    "## You try it - read the remaining worksheets in the Excel workbook: Customers, Sales, Line Items, Products, Holidays"
   ]
  },
  {
   "cell_type": "code",
   "execution_count": null,
   "id": "bccec06b",
   "metadata": {},
   "outputs": [],
   "source": [
    "my_read_excel_work_book_sheet(\"temp_sale_report.xlsx\", \"Customers\", 10)"
   ]
  },
  {
   "cell_type": "code",
   "execution_count": null,
   "id": "9fd87eb9",
   "metadata": {},
   "outputs": [],
   "source": [
    "my_read_excel_work_book_sheet(\"temp_sale_report.xlsx\", \"Sales\", 10)"
   ]
  },
  {
   "cell_type": "code",
   "execution_count": null,
   "id": "00eade8d",
   "metadata": {},
   "outputs": [],
   "source": [
    "my_read_excel_work_book_sheet(\"temp_sale_report.xlsx\", \"Line Items\", 10)"
   ]
  },
  {
   "cell_type": "code",
   "execution_count": null,
   "id": "a0fd9933",
   "metadata": {},
   "outputs": [],
   "source": [
    "my_read_excel_work_book_sheet(\"temp_sale_report.xlsx\", \"Products\", 10)"
   ]
  },
  {
   "cell_type": "code",
   "execution_count": null,
   "id": "2f27a7e7",
   "metadata": {},
   "outputs": [],
   "source": [
    "my_read_excel_work_book_sheet(\"temp_sale_report.xlsx\", \"Holidays\", 10)"
   ]
  },
  {
   "cell_type": "markdown",
   "id": "8c9d8575",
   "metadata": {},
   "source": [
    "## You try it - extract the remaining worksheets in the workbook into csv files; verify the csv files by reading them:\n",
    "\n",
    "* Customers to temp_customers_excel.csv\n",
    "* Sales to temp_sales_excel.csv\n",
    "* Line Items to temp_line_items.csv\n",
    "* Products to temp_products_excel.csv\n",
    "* Holidays to temp_holidays_excel.csv"
   ]
  },
  {
   "cell_type": "code",
   "execution_count": null,
   "id": "4d1d1aa0",
   "metadata": {},
   "outputs": [],
   "source": [
    "def my_export_excel_work_book_sheet_to_csv(excel_file_name, sheet_name, csv_file_name):\n",
    "    \"open the excel file, find the sheet_name, export to csv file \"\n",
    "    \n",
    "    work_book = openpyxl.load_workbook(excel_file_name)\n",
    "    \n",
    "    work_sheet = work_book[sheet_name]\n",
    "                                       \n",
    "    print(\"\\nExcel Workbook:\", excel_file_name)\n",
    "          \n",
    "    print(\"\\nWork Sheet:\", sheet_name)\n",
    "    \n",
    "    print(\"\\nNumber of Columns:\", work_sheet.max_column)\n",
    "          \n",
    "    print(\"\\nNumber of Rows:\", work_sheet.max_row)\n",
    "    \n",
    "    work_sheet_list = []\n",
    "    \n",
    "    for i in range(1,work_sheet.max_row+1):\n",
    "        \n",
    "        row_list = []\n",
    "        \n",
    "        for j in range(1,work_sheet.max_column+1):\n",
    "            \n",
    "            row_list.append(work_sheet.cell(row = i, column = j).value)\n",
    "            \n",
    "        work_sheet_list.append(row_list)\n",
    "    \n",
    "    print(\"\\nExtracting Work Sheet\", sheet_name, \"to\", csv_file_name, \"\\n\")\n",
    "    \n",
    "    f = open(csv_file_name, \"w\")    \n",
    "    writer = csv.writer(f)\n",
    "    writer.writerows(work_sheet_list)\n",
    "    f.close()"
   ]
  },
  {
   "cell_type": "code",
   "execution_count": null,
   "id": "299efa5b",
   "metadata": {},
   "outputs": [],
   "source": [
    "my_export_excel_work_book_sheet_to_csv(\"temp_sale_report.xlsx\", \"Customers\", \"temp_customers_excel.csv\")"
   ]
  },
  {
   "cell_type": "code",
   "execution_count": null,
   "id": "da76d748",
   "metadata": {},
   "outputs": [],
   "source": [
    "my_export_excel_work_book_sheet_to_csv(\"temp_sale_report.xlsx\", \"Sales\", \"temp_sales_excel.csv\")"
   ]
  },
  {
   "cell_type": "code",
   "execution_count": null,
   "id": "ac0e4a61",
   "metadata": {},
   "outputs": [],
   "source": [
    "my_export_excel_work_book_sheet_to_csv(\"temp_sale_report.xlsx\", \"Line Items\", \"temp_line_items_excel.csv\")"
   ]
  },
  {
   "cell_type": "code",
   "execution_count": null,
   "id": "6783a01d",
   "metadata": {},
   "outputs": [],
   "source": [
    "my_export_excel_work_book_sheet_to_csv(\"temp_sale_report.xlsx\", \"Products\", \"temp_products_excel.csv\")"
   ]
  },
  {
   "cell_type": "code",
   "execution_count": null,
   "id": "719ed71a",
   "metadata": {},
   "outputs": [],
   "source": [
    "my_export_excel_work_book_sheet_to_csv(\"temp_sale_report.xlsx\", \"Holidays\", \"temp_holidays_excel.csv\")"
   ]
  },
  {
   "cell_type": "code",
   "execution_count": null,
   "id": "1245a2e1",
   "metadata": {},
   "outputs": [],
   "source": [
    "def my_read_csv_file(file_name, limit):\n",
    "    \"read the csv file and print only the first limit rows\"\n",
    "    \n",
    "    csv_file = open(file_name, \"r\")\n",
    "    \n",
    "    csv_data = csv.reader(csv_file)\n",
    "    \n",
    "    i = 0\n",
    "    \n",
    "    for row in csv_data:\n",
    "        i += 1\n",
    "        if i <= limit:\n",
    "            print(row)\n",
    "            \n",
    "    print(\"\\nPrinted \", min(limit, i), \"lines of \", i, \"total lines.\")"
   ]
  },
  {
   "cell_type": "code",
   "execution_count": null,
   "id": "3ba615a2",
   "metadata": {},
   "outputs": [],
   "source": [
    "my_read_csv_file(\"temp_customers_excel.csv\", 25)"
   ]
  },
  {
   "cell_type": "code",
   "execution_count": null,
   "id": "a855cc40",
   "metadata": {},
   "outputs": [],
   "source": [
    "my_read_csv_file(\"temp_sales_excel.csv\", 25)"
   ]
  },
  {
   "cell_type": "code",
   "execution_count": null,
   "id": "95a81879",
   "metadata": {},
   "outputs": [],
   "source": [
    "my_read_csv_file(\"temp_line_items_excel.csv\", 25)"
   ]
  },
  {
   "cell_type": "code",
   "execution_count": null,
   "id": "b5c4e4be",
   "metadata": {},
   "outputs": [],
   "source": [
    "my_read_csv_file(\"temp_products_excel.csv\", 25)"
   ]
  },
  {
   "cell_type": "code",
   "execution_count": null,
   "id": "4f8db419",
   "metadata": {},
   "outputs": [],
   "source": [
    "my_read_csv_file(\"temp_holidays_excel.csv\", 25)"
   ]
  },
  {
   "cell_type": "markdown",
   "id": "472df2fd",
   "metadata": {},
   "source": [
    "## You try it -  add code cells to the above code to add worksheets for Customers, Sales, Line Items, Products, and Holidays; verify by reading the sheets"
   ]
  },
  {
   "cell_type": "code",
   "execution_count": null,
   "id": "c6d0e8ea",
   "metadata": {},
   "outputs": [],
   "source": [
    "def my_create_excel_sheet_from_query(work_sheet, query):\n",
    "    \"given a work sheet name and query, execute the query and put the results into the sheet\"\n",
    "    \n",
    "    connection.rollback()\n",
    "    \n",
    "    cursor.execute(query)\n",
    "\n",
    "    connection.rollback()\n",
    "    \n",
    "    column_list = [d[0] for d in cursor.description]\n",
    "    \n",
    "    row_number = 1\n",
    "    column_number = 1\n",
    "    \n",
    "    for column_name in column_list:\n",
    "        \n",
    "        work_sheet.cell(row = row_number, column = column_number, value=column_name)\n",
    "        \n",
    "        openpyxl.worksheet.dimensions.ColumnDimension(work_sheet, index=chr(ord('A')+row_number-1), bestFit=True)\n",
    "        \n",
    "        column_number += 1\n",
    "    \n",
    "    rows = cursor.fetchall()\n",
    "    \n",
    "    row_number = 2\n",
    "    \n",
    "    for row in rows:\n",
    "        \n",
    "        for column_number in range(1, len(column_list)+1):\n",
    "        \n",
    "            work_sheet.cell(row = row_number, column = column_number, value=row[column_number-1])\n",
    "        \n",
    "        \n",
    "        row_number += 1\n"
   ]
  },
  {
   "cell_type": "code",
   "execution_count": null,
   "id": "06d55850",
   "metadata": {},
   "outputs": [],
   "source": [
    "work_book = openpyxl.Workbook()\n"
   ]
  },
  {
   "cell_type": "code",
   "execution_count": null,
   "id": "b6c970ca",
   "metadata": {},
   "outputs": [],
   "source": [
    "work_sheet = work_book.active\n",
    "work_sheet.title = \"Sales Report\"\n",
    "\n",
    "query = \"\"\"\n",
    "\n",
    "select s.store_id,\n",
    "       s.city as store,\n",
    "       (lpad(sa.store_id::text, 3, '0') || '-' || lpad(sa.sale_id::text, 9, '0')) as receipt_number,\n",
    "       sa.sale_date,\n",
    "       extract(dow from sa.sale_date) as dow,\n",
    "       to_char(sa.sale_date, 'Day') as day_of_week,\n",
    "       to_char(sa.sale_date, 'Month') as month,\n",
    "       l.line_item_id,\n",
    "       l.product_id,\n",
    "       p.description as product_name,\n",
    "       l.quantity,\n",
    "       l.quantity * 12 as line_item_amount,\n",
    "       cu.customer_id,\n",
    "       cu.first_name,\n",
    "       cu.last_name,\n",
    "       (cu.first_name || ' ' || cu.last_name) as first_last_name,\n",
    "       (cu.last_name || ', ' || cu.first_name) as last_first_name,\n",
    "       cu.street,\n",
    "       cu.city,\n",
    "       cu.state,\n",
    "       cu.zip,\n",
    "       cu.closest_store_id,\n",
    "       cu.distance,\n",
    "       z.latitude,\n",
    "       z.longitude,\n",
    "       z.population,\n",
    "       z.area,\n",
    "       z.density,\n",
    "       z.time_zone\n",
    "from temp_stores as s\n",
    "     join temp_sales as sa\n",
    "         on s.store_id = sa.store_id \n",
    "     join temp_customers as cu\n",
    "         on sa.customer_id = cu.customer_id\n",
    "     join temp_line_items l\n",
    "         on sa.store_id = l.store_id and sa.sale_id = l.sale_id\n",
    "     join temp_products p\n",
    "         on l.product_id = p.product_id\n",
    "     join zip_codes z\n",
    "         on cu.zip = z.zip\n",
    "order by s.store_id, sa.sale_id, l.line_item_id\n",
    "\n",
    "\n",
    "\"\"\"\n",
    "\n",
    "my_create_excel_sheet_from_query(work_sheet, query)\n",
    "\n"
   ]
  },
  {
   "cell_type": "code",
   "execution_count": null,
   "id": "2c65fe23",
   "metadata": {},
   "outputs": [],
   "source": [
    "work_sheet = work_book.create_sheet(\"Stores\")\n",
    "\n",
    "query = \"\"\"\n",
    "\n",
    "select *\n",
    "from temp_stores\n",
    "order by store_id\n",
    "\n",
    "\n",
    "\"\"\"\n",
    "\n",
    "my_create_excel_sheet_from_query(work_sheet, query)\n"
   ]
  },
  {
   "cell_type": "code",
   "execution_count": null,
   "id": "238de90e",
   "metadata": {},
   "outputs": [],
   "source": [
    "work_sheet = work_book.create_sheet(\"Customers\")\n",
    "\n",
    "query = \"\"\"\n",
    "\n",
    "select *\n",
    "from temp_customers\n",
    "order by customer_id\n",
    "\n",
    "\n",
    "\"\"\"\n",
    "\n",
    "my_create_excel_sheet_from_query(work_sheet, query)\n"
   ]
  },
  {
   "cell_type": "code",
   "execution_count": null,
   "id": "cb314c96",
   "metadata": {},
   "outputs": [],
   "source": [
    "work_sheet = work_book.create_sheet(\"Sales\")\n",
    "\n",
    "query = \"\"\"\n",
    "\n",
    "select *\n",
    "from temp_sales\n",
    "order by store_id, sale_id\n",
    "\n",
    "\n",
    "\"\"\"\n",
    "\n",
    "my_create_excel_sheet_from_query(work_sheet, query)\n"
   ]
  },
  {
   "cell_type": "code",
   "execution_count": null,
   "id": "12b98267",
   "metadata": {},
   "outputs": [],
   "source": [
    "work_sheet = work_book.create_sheet(\"Line Items\")\n",
    "\n",
    "query = \"\"\"\n",
    "\n",
    "select *\n",
    "from temp_line_items\n",
    "order by store_id, sale_id, line_item_id\n",
    "\n",
    "\n",
    "\"\"\"\n",
    "\n",
    "my_create_excel_sheet_from_query(work_sheet, query)\n"
   ]
  },
  {
   "cell_type": "code",
   "execution_count": null,
   "id": "65154167",
   "metadata": {},
   "outputs": [],
   "source": [
    "work_sheet = work_book.create_sheet(\"Products\")\n",
    "\n",
    "query = \"\"\"\n",
    "\n",
    "select *\n",
    "from temp_products\n",
    "order by product_id\n",
    "\n",
    "\n",
    "\"\"\"\n",
    "\n",
    "my_create_excel_sheet_from_query(work_sheet, query)"
   ]
  },
  {
   "cell_type": "code",
   "execution_count": null,
   "id": "5a1d6160",
   "metadata": {},
   "outputs": [],
   "source": [
    "work_sheet = work_book.create_sheet(\"Holidays\")\n",
    "\n",
    "query = \"\"\"\n",
    "\n",
    "select *\n",
    "from holidays\n",
    "order by holiday_date\n",
    "\n",
    "\n",
    "\"\"\"\n",
    "\n",
    "my_create_excel_sheet_from_query(work_sheet, query)"
   ]
  },
  {
   "cell_type": "code",
   "execution_count": null,
   "id": "a4627dce",
   "metadata": {},
   "outputs": [],
   "source": [
    "work_book.save(\"temp_sale_report_2.xlsx\")"
   ]
  },
  {
   "cell_type": "code",
   "execution_count": null,
   "id": "639d0ddb",
   "metadata": {},
   "outputs": [],
   "source": [
    "def my_read_excel_work_book_list_sheets(excel_file_name):\n",
    "    \"open the excel file, list the sheets\"\n",
    "    \n",
    "    work_book = openpyxl.load_workbook(excel_file_name)\n",
    "    \n",
    "    print(\"\\nExcel Workbook\", excel_file_name, \"list of work sheets:\\n\")\n",
    "    \n",
    "    for s in work_book.sheetnames:\n",
    "        print(s)\n",
    "        "
   ]
  },
  {
   "cell_type": "code",
   "execution_count": null,
   "id": "4771adfb",
   "metadata": {},
   "outputs": [],
   "source": [
    "my_read_excel_work_book_list_sheets(\"temp_sale_report_2.xlsx\")"
   ]
  },
  {
   "cell_type": "code",
   "execution_count": null,
   "id": "23f3ebc4",
   "metadata": {},
   "outputs": [],
   "source": [
    "my_read_excel_work_book_sheet(\"temp_sale_report_2.xlsx\", \"Sales Report\", 10)"
   ]
  },
  {
   "cell_type": "code",
   "execution_count": null,
   "id": "3967bc25",
   "metadata": {},
   "outputs": [],
   "source": [
    "my_read_excel_work_book_sheet(\"temp_sale_report_2.xlsx\", \"Stores\", 10)"
   ]
  },
  {
   "cell_type": "code",
   "execution_count": null,
   "id": "bbe259e8",
   "metadata": {},
   "outputs": [],
   "source": [
    "my_read_excel_work_book_sheet(\"temp_sale_report_2.xlsx\", \"Customers\", 10)"
   ]
  },
  {
   "cell_type": "code",
   "execution_count": null,
   "id": "8124c478",
   "metadata": {},
   "outputs": [],
   "source": [
    "my_read_excel_work_book_sheet(\"temp_sale_report_2.xlsx\", \"Sales\", 10)"
   ]
  },
  {
   "cell_type": "code",
   "execution_count": null,
   "id": "13c64daa",
   "metadata": {},
   "outputs": [],
   "source": [
    "my_read_excel_work_book_sheet(\"temp_sale_report_2.xlsx\", \"Line Items\", 10)"
   ]
  },
  {
   "cell_type": "code",
   "execution_count": null,
   "id": "d372e756",
   "metadata": {},
   "outputs": [],
   "source": [
    "my_read_excel_work_book_sheet(\"temp_sale_report_2.xlsx\", \"Products\", 10)"
   ]
  },
  {
   "cell_type": "code",
   "execution_count": null,
   "id": "b8ccea68",
   "metadata": {},
   "outputs": [],
   "source": [
    "my_read_excel_work_book_sheet(\"temp_sale_report_2.xlsx\", \"Holidays\", 10)"
   ]
  },
  {
   "cell_type": "code",
   "execution_count": null,
   "id": "c5ddd789",
   "metadata": {},
   "outputs": [],
   "source": []
  }
 ],
 "metadata": {
  "kernelspec": {
   "display_name": "Python 3 (ipykernel)",
   "language": "python",
   "name": "python3"
  },
  "language_info": {
   "codemirror_mode": {
    "name": "ipython",
    "version": 3
   },
   "file_extension": ".py",
   "mimetype": "text/x-python",
   "name": "python",
   "nbconvert_exporter": "python",
   "pygments_lexer": "ipython3",
   "version": "3.9.7"
  }
 },
 "nbformat": 4,
 "nbformat_minor": 5
}
