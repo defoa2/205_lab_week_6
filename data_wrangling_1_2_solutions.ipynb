{
 "cells": [
  {
   "cell_type": "markdown",
   "id": "6167ebde",
   "metadata": {},
   "source": [
    "# Data Wrangling 1.2 Solutions"
   ]
  },
  {
   "cell_type": "code",
   "execution_count": null,
   "id": "74cf8f2e",
   "metadata": {},
   "outputs": [],
   "source": [
    "import csv\n",
    "\n",
    "import math\n",
    "import numpy as np\n",
    "import pandas as pd\n",
    "\n",
    "import psycopg2"
   ]
  },
  {
   "cell_type": "code",
   "execution_count": null,
   "id": "89193769",
   "metadata": {},
   "outputs": [],
   "source": [
    "#\n",
    "# function to run a select query and return rows in a pandas dataframe\n",
    "# pandas puts all numeric values from postgres to float\n",
    "# if it will fit in an integer, change it to integer\n",
    "#\n",
    "\n",
    "def my_select_query_pandas(query, rollback_before_flag, rollback_after_flag):\n",
    "    \"function to run a select query and return rows in a pandas dataframe\"\n",
    "    \n",
    "    if rollback_before_flag:\n",
    "        connection.rollback()\n",
    "    \n",
    "    df = pd.read_sql_query(query, connection)\n",
    "    \n",
    "    if rollback_after_flag:\n",
    "        connection.rollback()\n",
    "    \n",
    "    # fix the float columns that really should be integers\n",
    "    \n",
    "    for column in df:\n",
    "    \n",
    "        if df[column].dtype == \"float64\":\n",
    "\n",
    "            fraction_flag = False\n",
    "\n",
    "            for value in df[column].values:\n",
    "                \n",
    "                if not np.isnan(value):\n",
    "                    if value - math.floor(value) != 0:\n",
    "                        fraction_flag = True\n",
    "\n",
    "            if not fraction_flag:\n",
    "                df[column] = df[column].astype('Int64')\n",
    "    \n",
    "    return(df)\n",
    "    "
   ]
  },
  {
   "cell_type": "code",
   "execution_count": null,
   "id": "7027ce8a",
   "metadata": {},
   "outputs": [],
   "source": [
    "connection = psycopg2.connect(\n",
    "    user = \"postgres\",\n",
    "    password = \"ucb\",\n",
    "    host = \"postgres\",\n",
    "    port = \"5432\",\n",
    "    database = \"postgres\"\n",
    ")"
   ]
  },
  {
   "cell_type": "code",
   "execution_count": null,
   "id": "0cb9e1ca",
   "metadata": {},
   "outputs": [],
   "source": [
    "cursor = connection.cursor()"
   ]
  },
  {
   "cell_type": "markdown",
   "id": "1450a4ee",
   "metadata": {},
   "source": [
    "## You try it - read and print out some lines from the following csv files: temp_line_items.csv, temp_customers.csv, temp_products, temp_holidays"
   ]
  },
  {
   "cell_type": "code",
   "execution_count": null,
   "id": "025aa95b",
   "metadata": {},
   "outputs": [],
   "source": [
    "def my_read_csv_file(file_name, limit):\n",
    "    \"read the csv file and print only the first limit rows\"\n",
    "    \n",
    "    csv_file = open(file_name, \"r\")\n",
    "    \n",
    "    csv_data = csv.reader(csv_file)\n",
    "    \n",
    "    i = 0\n",
    "    \n",
    "    for row in csv_data:\n",
    "        i += 1\n",
    "        if i <= limit:\n",
    "            print(row)\n",
    "            \n",
    "    print(\"\\nPrinted \", min(limit, i), \"lines of \", i, \"total lines.\")"
   ]
  },
  {
   "cell_type": "code",
   "execution_count": null,
   "id": "f1de2e59",
   "metadata": {},
   "outputs": [],
   "source": [
    "my_read_csv_file(\"temp_line_items.csv\", limit=10)"
   ]
  },
  {
   "cell_type": "code",
   "execution_count": null,
   "id": "a5dff69f",
   "metadata": {},
   "outputs": [],
   "source": [
    "my_read_csv_file(\"temp_customers.csv\", limit=10)"
   ]
  },
  {
   "cell_type": "code",
   "execution_count": null,
   "id": "13f1865c",
   "metadata": {},
   "outputs": [],
   "source": [
    "my_read_csv_file(\"temp_products.csv\", limit=10)"
   ]
  },
  {
   "cell_type": "code",
   "execution_count": null,
   "id": "17669795",
   "metadata": {},
   "outputs": [],
   "source": [
    "my_read_csv_file(\"temp_holidays.csv\", limit=100)"
   ]
  },
  {
   "cell_type": "markdown",
   "id": "7166f643",
   "metadata": {},
   "source": [
    "## You try it - \n",
    "* load the file temp_holidays.csv into the table temp_holidays \n",
    "* temp_products.csv into table temp_products\n",
    "* temp_line_items into table temp_line_items \n",
    "* verify the loads with a query"
   ]
  },
  {
   "cell_type": "code",
   "execution_count": null,
   "id": "62e12195",
   "metadata": {},
   "outputs": [],
   "source": [
    "#\n",
    "# load the csv files into the database tables in foreign key order\n",
    "#\n",
    "\n",
    "connection.rollback()\n",
    "\n",
    "query = \"\"\"\n",
    "\n",
    "copy temp_holidays\n",
    "from '/user/labs/week_06/temp_holidays.csv' delimiter ',' NULL '' csv header;\n",
    "\n",
    "copy temp_products\n",
    "from '/user/labs/week_06/temp_products.csv' delimiter ',' NULL '' csv header;\n",
    "\n",
    "copy temp_line_items\n",
    "from '/user/labs/week_06/temp_line_items.csv' delimiter ',' NULL '' csv header;\n",
    "\n",
    "\n",
    "\"\"\"\n",
    "\n",
    "cursor.execute(query)\n",
    "\n",
    "connection.commit()"
   ]
  },
  {
   "cell_type": "code",
   "execution_count": null,
   "id": "68decc9c",
   "metadata": {},
   "outputs": [],
   "source": [
    "rollback_before_flag = True\n",
    "rollback_after_flag = True\n",
    "\n",
    "query = \"\"\"\n",
    "\n",
    "select * \n",
    "from temp_holidays;\n",
    "\n",
    "\"\"\"\n",
    "\n",
    "my_select_query_pandas(query, rollback_before_flag, rollback_after_flag)"
   ]
  },
  {
   "cell_type": "code",
   "execution_count": null,
   "id": "fabedc9c",
   "metadata": {},
   "outputs": [],
   "source": [
    "rollback_before_flag = True\n",
    "rollback_after_flag = True\n",
    "\n",
    "query = \"\"\"\n",
    "\n",
    "select * \n",
    "from temp_products;\n",
    "\n",
    "\"\"\"\n",
    "\n",
    "my_select_query_pandas(query, rollback_before_flag, rollback_after_flag)"
   ]
  },
  {
   "cell_type": "code",
   "execution_count": null,
   "id": "db53e5dd",
   "metadata": {},
   "outputs": [],
   "source": [
    "rollback_before_flag = True\n",
    "rollback_after_flag = True\n",
    "\n",
    "query = \"\"\"\n",
    "\n",
    "select * \n",
    "from temp_line_items;\n",
    "\n",
    "\"\"\"\n",
    "\n",
    "my_select_query_pandas(query, rollback_before_flag, rollback_after_flag)"
   ]
  },
  {
   "cell_type": "markdown",
   "id": "abbe4162",
   "metadata": {},
   "source": [
    "## You try it - \n",
    "* extract the table temp_sales table to temp_sales_2.csv\n",
    "* table temp_line_items to temp_line_items_2.csv\n",
    "* table temp_customers to temp_customers_2.csv \n",
    "* table temp_products to temp_products_2.csv\n",
    "* table temp_holidays to temp_holidays_2.csv\n",
    "* verify by reading the csv files"
   ]
  },
  {
   "cell_type": "code",
   "execution_count": null,
   "id": "58394d50",
   "metadata": {},
   "outputs": [],
   "source": [
    "connection.rollback()\n",
    "    \n",
    "query = \"\"\"\n",
    "    \n",
    "copy (select * \n",
    "      from temp_sales \n",
    "      order by store_id, sale_id)\n",
    "to '/user/labs/week_06/temp_sales_2.csv' delimiter ',' NULL '' csv header;\n",
    "\n",
    "copy (select * \n",
    "      from temp_line_items \n",
    "      order by store_id, sale_id, line_item_id)\n",
    "to '/user/labs/week_06/temp_line_items_2.csv' delimiter ',' NULL '' csv header;\n",
    "\n",
    "copy (select * \n",
    "      from temp_customers\n",
    "      order by customer_id)\n",
    "to '/user/labs/week_06/temp_customers_2.csv' delimiter ',' NULL '' csv header;\n",
    "\n",
    "copy (select * \n",
    "      from temp_products\n",
    "      order by product_id)\n",
    "to '/user/labs/week_06/temp_products_2.csv' delimiter ',' NULL '' csv header;\n",
    "\n",
    "copy (select * \n",
    "      from temp_holidays\n",
    "      order by holiday_date)\n",
    "to '/user/labs/week_06/temp_holidays_2.csv' delimiter ',' NULL '' csv header;\n",
    "\n",
    "\n",
    "\"\"\"\n",
    "\n",
    "cursor.execute(query)\n",
    "    \n",
    "connection.commit()\n"
   ]
  },
  {
   "cell_type": "code",
   "execution_count": null,
   "id": "216b8761",
   "metadata": {},
   "outputs": [],
   "source": [
    "my_read_csv_file(\"temp_sales_2.csv\", limit=10)"
   ]
  },
  {
   "cell_type": "code",
   "execution_count": null,
   "id": "f6a1d792",
   "metadata": {},
   "outputs": [],
   "source": [
    "my_read_csv_file(\"temp_line_items_2.csv\", limit=10)"
   ]
  },
  {
   "cell_type": "code",
   "execution_count": null,
   "id": "1e42b56b",
   "metadata": {},
   "outputs": [],
   "source": [
    "my_read_csv_file(\"temp_customers_2.csv\", limit=10)"
   ]
  },
  {
   "cell_type": "code",
   "execution_count": null,
   "id": "92485701",
   "metadata": {},
   "outputs": [],
   "source": [
    "my_read_csv_file(\"temp_products_2.csv\", limit=10)"
   ]
  },
  {
   "cell_type": "code",
   "execution_count": null,
   "id": "263851b3",
   "metadata": {},
   "outputs": [],
   "source": [
    "my_read_csv_file(\"temp_holidays_2.csv\", limit=10)"
   ]
  },
  {
   "cell_type": "code",
   "execution_count": null,
   "id": "465244c1",
   "metadata": {},
   "outputs": [],
   "source": []
  }
 ],
 "metadata": {
  "kernelspec": {
   "display_name": "Python 3 (ipykernel)",
   "language": "python",
   "name": "python3"
  },
  "language_info": {
   "codemirror_mode": {
    "name": "ipython",
    "version": 3
   },
   "file_extension": ".py",
   "mimetype": "text/x-python",
   "name": "python",
   "nbconvert_exporter": "python",
   "pygments_lexer": "ipython3",
   "version": "3.9.7"
  }
 },
 "nbformat": 4,
 "nbformat_minor": 5
}
