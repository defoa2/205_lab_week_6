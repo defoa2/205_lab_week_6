{
 "cells": [
  {
   "cell_type": "markdown",
   "id": "6167ebde",
   "metadata": {},
   "source": [
    "# Data Wrangling 1.1"
   ]
  },
  {
   "cell_type": "code",
   "execution_count": null,
   "id": "74cf8f2e",
   "metadata": {},
   "outputs": [],
   "source": [
    "import base64"
   ]
  },
  {
   "cell_type": "markdown",
   "id": "71f492db",
   "metadata": {},
   "source": [
    "# Lab: Building Blocks of Storage and Encoding"
   ]
  },
  {
   "cell_type": "markdown",
   "id": "ed6d2128",
   "metadata": {},
   "source": [
    "## binary and hex (hexidecimal) numbers\n",
    "\n",
    "## binary is base 2, with digits 0 and 1\n",
    "\n",
    "## hex is base 16 with digits 0, 1, 2, 3, 4, 5, 6, 7, 8, 9, a, b, c, d, e, f, where a = 10, b = 11, c = 12, d = 13, d = 14, f = 15"
   ]
  },
  {
   "cell_type": "code",
   "execution_count": null,
   "id": "aed4364b",
   "metadata": {},
   "outputs": [],
   "source": [
    "for i in range(0, 33):\n",
    "    \n",
    "    binary_string = f\"{i:08b}\"\n",
    "    \n",
    "    nibble_1 = binary_string[:4]\n",
    "    \n",
    "    nibble_0 = binary_string[4:]\n",
    "    \n",
    "    hex_string = f\"{i:02x}\"\n",
    "    \n",
    "    hex_1 = hex_string[:1]\n",
    "    \n",
    "    hex_0 = hex_string[1:]\n",
    "    \n",
    "    print(f\"{i: 3}\", ': binary:', nibble_1, nibble_0,'hex:', hex_1, hex_0)\n",
    "    "
   ]
  },
  {
   "cell_type": "code",
   "execution_count": null,
   "id": "17b88b44",
   "metadata": {},
   "outputs": [],
   "source": [
    "for i in range(0, 16):\n",
    "    \n",
    "    hex_string = f\"{i:1x}\"\n",
    "    \n",
    "    print(f\"{i: 3}\", 'hex:', hex_string)"
   ]
  },
  {
   "cell_type": "markdown",
   "id": "2b9939c3",
   "metadata": {},
   "source": [
    "## storage sizing"
   ]
  },
  {
   "cell_type": "code",
   "execution_count": null,
   "id": "c2189b91",
   "metadata": {},
   "outputs": [],
   "source": [
    "print('1 KiB = ', f\"{1024: 35,}\")\n",
    "print('1 MiB = ', f\"{1024**2: 35,}\")\n",
    "print('1 GiB = ', f\"{1024**3: 35,}\")\n",
    "print('1 TiB = ', f\"{1024**4: 35,}\")\n",
    "print('1 PiB = ', f\"{1024**5: 35,}\")\n",
    "print('1 EiB = ', f\"{1024**6: 35,}\")\n",
    "print('1 ZiB = ', f\"{1024**7: 35,}\")\n",
    "print('1 YiB = ', f\"{1024**8: 35,}\")\n"
   ]
  },
  {
   "cell_type": "markdown",
   "id": "27ff152f",
   "metadata": {},
   "source": [
    "## ascii - print a string in its binary format - note 1 byte = 8 bits = 2 nibbles per character"
   ]
  },
  {
   "cell_type": "code",
   "execution_count": null,
   "id": "38bbeaa5",
   "metadata": {},
   "outputs": [],
   "source": [
    "def my_print_string_binary(s):\n",
    "    return \" \".join(f\"{ord(i):08b}\" for i in s)"
   ]
  },
  {
   "cell_type": "code",
   "execution_count": null,
   "id": "b0c06678",
   "metadata": {},
   "outputs": [],
   "source": [
    "my_print_string_binary(\"Oski the Bear\")"
   ]
  },
  {
   "cell_type": "code",
   "execution_count": null,
   "id": "48f2b8c9",
   "metadata": {},
   "outputs": [],
   "source": [
    "my_print_string_binary(\"Go Bears!!!\")"
   ]
  },
  {
   "cell_type": "code",
   "execution_count": null,
   "id": "29e6f08e",
   "metadata": {},
   "outputs": [],
   "source": [
    "my_print_string_binary(\"Cali Rules!!!\")"
   ]
  },
  {
   "cell_type": "markdown",
   "id": "cf478629",
   "metadata": {},
   "source": [
    "## ascii - print a string in its hex format - note 1 byte = 2 hex characters = 2 nibbles (\"nibble pair\") per character"
   ]
  },
  {
   "cell_type": "code",
   "execution_count": null,
   "id": "202bc81d",
   "metadata": {},
   "outputs": [],
   "source": [
    "def my_print_string_hex(s):\n",
    "    print(\"nibble pair (lower case):\", \" \".join(f\"{ord(i):02x}\" for i in s))\n",
    "    print(\"nibble pair (upper case):\", \" \".join(f\"{ord((i)):02x}\" for i in s).upper())\n",
    "    print(\"digest                  :\", \":\".join(f\"{ord(i):02x}\" for i in s))\n",
    "    return "
   ]
  },
  {
   "cell_type": "code",
   "execution_count": null,
   "id": "7751e75b",
   "metadata": {},
   "outputs": [],
   "source": [
    "my_print_string_hex(\"Oski the Bear\")"
   ]
  },
  {
   "cell_type": "code",
   "execution_count": null,
   "id": "334195b1",
   "metadata": {},
   "outputs": [],
   "source": [
    "my_print_string_hex(\"Go Bears!!!\")"
   ]
  },
  {
   "cell_type": "code",
   "execution_count": null,
   "id": "c1b8ee0b",
   "metadata": {},
   "outputs": [],
   "source": [
    "my_print_string_hex(\"Cali Rules!!!\")"
   ]
  },
  {
   "cell_type": "markdown",
   "id": "ee9304db",
   "metadata": {},
   "source": [
    "## unicode - multibyte character set to represent all languages of the world, plus emojiis, glyphs, etc.\n",
    "\n",
    "https://home.unicode.org/\n",
    "\n",
    "This website uses the U+ notation, such as U+1F47D.  \n",
    "\n",
    "In Python use '\\uxxxx' for 4 hex digits, '\\Uxxxxxxxx' for 8 hex digits.  Padd with leading 0's.\n",
    "\n",
    "U+1F47D would be '\\U0001f47d'\n",
    "\n",
    "U+270C would be '\\u270c'\n"
   ]
  },
  {
   "cell_type": "markdown",
   "id": "cf3447b0",
   "metadata": {},
   "source": [
    "## utf-8 is a way to encode unicode; it allows us to mix single byte characters and multi-byte characters; multi-byte characters are shown in hex, as in \\xc3\\xa9 is e with accent mark, \\xc3\\xb1 is n with accent mark"
   ]
  },
  {
   "cell_type": "code",
   "execution_count": null,
   "id": "6a226a44",
   "metadata": {},
   "outputs": [],
   "source": [
    "resume = b'r\\xc3\\xa9sum\\xc3\\xa9'.decode(\"utf-8\")\n",
    "resume"
   ]
  },
  {
   "cell_type": "code",
   "execution_count": null,
   "id": "544e6378",
   "metadata": {},
   "outputs": [],
   "source": [
    "resume.encode(\"utf-8\")"
   ]
  },
  {
   "cell_type": "code",
   "execution_count": null,
   "id": "a2ded055",
   "metadata": {},
   "outputs": [],
   "source": [
    "el_nino = b'El Ni\\xc3\\xb1o'.decode(\"utf-8\")\n",
    "el_nino"
   ]
  },
  {
   "cell_type": "code",
   "execution_count": null,
   "id": "8f2cc18e",
   "metadata": {},
   "outputs": [],
   "source": [
    "el_nino.encode(\"utf-8\")\n"
   ]
  },
  {
   "cell_type": "code",
   "execution_count": null,
   "id": "75408bbc",
   "metadata": {},
   "outputs": [],
   "source": [
    "delta = \"\\N{GREEK CAPITAL LETTER DELTA}\"\n",
    "delta"
   ]
  },
  {
   "cell_type": "code",
   "execution_count": null,
   "id": "4535f5c9",
   "metadata": {},
   "outputs": [],
   "source": [
    "delta.encode(\"utf-8\")"
   ]
  },
  {
   "cell_type": "markdown",
   "id": "13e77f2a",
   "metadata": {},
   "source": [
    "## Emojis are part of unicode and can be encoded in UTF-8; note that emojis can change or enhance meanings; emoji analysis as part of natural language processing\n"
   ]
  },
  {
   "cell_type": "code",
   "execution_count": null,
   "id": "194c4792",
   "metadata": {},
   "outputs": [],
   "source": [
    "grin = \"\\N{GRINNING FACE}\"\n",
    "grin"
   ]
  },
  {
   "cell_type": "code",
   "execution_count": null,
   "id": "41819ea0",
   "metadata": {},
   "outputs": [],
   "source": [
    "grin.encode(\"utf-8\")"
   ]
  },
  {
   "cell_type": "code",
   "execution_count": null,
   "id": "c3981b3c",
   "metadata": {},
   "outputs": [],
   "source": [
    "wink = \"\\N{WINKING FACE}\"\n",
    "wink"
   ]
  },
  {
   "cell_type": "code",
   "execution_count": null,
   "id": "72bcd317",
   "metadata": {},
   "outputs": [],
   "source": [
    "wink.encode(\"utf-8\")"
   ]
  },
  {
   "cell_type": "code",
   "execution_count": null,
   "id": "73a207f7",
   "metadata": {},
   "outputs": [],
   "source": [
    "knight = \"\\N{BLACK CHESS KNIGHT}\"\n",
    "knight"
   ]
  },
  {
   "cell_type": "code",
   "execution_count": null,
   "id": "caec84c7",
   "metadata": {},
   "outputs": [],
   "source": [
    "knight.encode(\"utf-8\")"
   ]
  },
  {
   "cell_type": "code",
   "execution_count": null,
   "id": "6ff9025b",
   "metadata": {},
   "outputs": [],
   "source": [
    "alien = '\\U0001f47d'\n",
    "alien"
   ]
  },
  {
   "cell_type": "code",
   "execution_count": null,
   "id": "3ef4cc44",
   "metadata": {},
   "outputs": [],
   "source": [
    "alien.encode(\"utf-8\")"
   ]
  },
  {
   "cell_type": "code",
   "execution_count": null,
   "id": "7b7e7f96",
   "metadata": {},
   "outputs": [],
   "source": [
    "peace = '\\u270c'\n",
    "peace"
   ]
  },
  {
   "cell_type": "code",
   "execution_count": null,
   "id": "e534e7ce",
   "metadata": {},
   "outputs": [],
   "source": [
    "peace.encode(\"utf-8\")"
   ]
  },
  {
   "cell_type": "markdown",
   "id": "4ad10611",
   "metadata": {},
   "source": [
    "## UTF-8 can be easily written to / read from files using Python; Python 3.x assumes utf-8, it's no longer necessary to specify encoding for files"
   ]
  },
  {
   "cell_type": "code",
   "execution_count": null,
   "id": "3502be82",
   "metadata": {},
   "outputs": [],
   "source": [
    "f = open(\"my_file\", \"w\")\n",
    "\n",
    "f.write(\"Did you finish your \" + resume + \"?\\n\")\n",
    "f.write(\"Will \" + el_nino + \" affect our weather this year?\\n\")\n",
    "f.write(delta + \" is a Greek letter\\n\")\n",
    "f.write(\"Life is great! \" + grin + \"\\n\")\n",
    "f.write(\"I couldn't have done it better myself! \" + wink + \"\\n\")\n",
    "f.write(\"Paladin!\" + knight + \"\\n\")\n",
    "f.write(\"If an \" + alien + \" lands a space ship in my backyard, I hope they want \" + peace + \"\\n\")\n",
    "\n",
    "f.close()"
   ]
  },
  {
   "cell_type": "code",
   "execution_count": null,
   "id": "37225320",
   "metadata": {},
   "outputs": [],
   "source": [
    "f = open(\"my_file\", \"r\")\n",
    "\n",
    "print(f.read())\n",
    "\n",
    "f.close()"
   ]
  },
  {
   "cell_type": "markdown",
   "id": "f8995af6",
   "metadata": {},
   "source": [
    "## Base64 is the latest version of uuencoding; it allows binary data to be encoded to pass through networks; Internet, web pages, email, MIME, etc."
   ]
  },
  {
   "cell_type": "code",
   "execution_count": null,
   "id": "4130fd2d",
   "metadata": {},
   "outputs": [],
   "source": [
    "my_string = bytes(\"Uuencoding was invented by Mary Ann Horton at UC Berkeley in 1980\", \"utf-8\")\n",
    "\n",
    "base_64_encoded = base64.b64encode(my_string)\n",
    "base_64_encoded"
   ]
  },
  {
   "cell_type": "code",
   "execution_count": null,
   "id": "eca319d6",
   "metadata": {},
   "outputs": [],
   "source": [
    "base_64_decoded = base64.b64decode(base_64_encoded)\n",
    "base_64_decoded"
   ]
  },
  {
   "cell_type": "code",
   "execution_count": null,
   "id": "d6b7ef83",
   "metadata": {},
   "outputs": [],
   "source": [
    "f = open(\"berkeley_logo.png\", \"rb\")\n",
    "binary_data = f.read()\n",
    "f.close()\n",
    "\n",
    "print(\"binary data for an image (first 100 bytes):\\n\", binary_data[:100], '\\n')\n",
    "\n",
    "base_64_data = base64.b64encode(binary_data)\n",
    "\n",
    "print(\"base 64 encoding for the image (first 100 characters):\\n\", base_64_data[:100])\n"
   ]
  },
  {
   "cell_type": "markdown",
   "id": "f3cb6ed8",
   "metadata": {},
   "source": [
    "## You try it \n",
    "\n",
    "* Print the string \"Hello, world!\" in binary and hex\n",
    "\n",
    "* translate the unicode character U+1F9E1 into a Python unicode string, and then into a UTF-8 string\n",
    "\n",
    "* Encode the string \"Hello, world!\" in Base64, then decode it back"
   ]
  },
  {
   "cell_type": "code",
   "execution_count": null,
   "id": "d0334645",
   "metadata": {},
   "outputs": [],
   "source": []
  }
 ],
 "metadata": {
  "kernelspec": {
   "display_name": "Python 3 (ipykernel)",
   "language": "python",
   "name": "python3"
  },
  "language_info": {
   "codemirror_mode": {
    "name": "ipython",
    "version": 3
   },
   "file_extension": ".py",
   "mimetype": "text/x-python",
   "name": "python",
   "nbconvert_exporter": "python",
   "pygments_lexer": "ipython3",
   "version": "3.9.7"
  }
 },
 "nbformat": 4,
 "nbformat_minor": 5
}
