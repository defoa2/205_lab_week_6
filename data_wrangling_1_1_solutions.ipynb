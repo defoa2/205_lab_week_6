{
 "cells": [
  {
   "cell_type": "markdown",
   "id": "ea6fafcf",
   "metadata": {},
   "source": [
    "# Data Wrangling 1.1 Solutions"
   ]
  },
  {
   "cell_type": "code",
   "execution_count": null,
   "id": "59b207a7",
   "metadata": {},
   "outputs": [],
   "source": [
    "import base64"
   ]
  },
  {
   "cell_type": "markdown",
   "id": "962ff5c0",
   "metadata": {},
   "source": [
    "## You try it \n",
    "\n",
    "* Print the string \"Hello, world!\" in binary and hex\n",
    "\n",
    "* translate the unicode character U+1F9E1 into a Python unicode string, and then into a UTF-8 string\n",
    "\n",
    "* Encode the string \"Hello, world!\" in Base64, then decode it back"
   ]
  },
  {
   "cell_type": "code",
   "execution_count": null,
   "id": "7c9f380f",
   "metadata": {},
   "outputs": [],
   "source": [
    "def my_print_string_binary(s):\n",
    "    return \" \".join(f\"{ord(i):08b}\" for i in s)"
   ]
  },
  {
   "cell_type": "code",
   "execution_count": null,
   "id": "c6d34ce6",
   "metadata": {},
   "outputs": [],
   "source": [
    "my_print_string_binary(\"Hello, world!\")"
   ]
  },
  {
   "cell_type": "code",
   "execution_count": null,
   "id": "e4c90132",
   "metadata": {},
   "outputs": [],
   "source": [
    "def my_print_string_hex(s):\n",
    "    print(\"nibble pair (lower case):\", \" \".join(f\"{ord(i):02x}\" for i in s))\n",
    "    print(\"nibble pair (upper case):\", \" \".join(f\"{ord((i)):02x}\" for i in s).upper())\n",
    "    print(\"digest                  :\", \":\".join(f\"{ord(i):02x}\" for i in s))\n",
    "    return "
   ]
  },
  {
   "cell_type": "code",
   "execution_count": null,
   "id": "8368cb47",
   "metadata": {
    "scrolled": true
   },
   "outputs": [],
   "source": [
    "my_print_string_hex(\"Hello, world!\")"
   ]
  },
  {
   "cell_type": "code",
   "execution_count": null,
   "id": "1f94ff95",
   "metadata": {},
   "outputs": [],
   "source": [
    "heart = '\\U0001f9e1'\n",
    "heart"
   ]
  },
  {
   "cell_type": "code",
   "execution_count": null,
   "id": "f8dd51e8",
   "metadata": {},
   "outputs": [],
   "source": [
    "heart.encode(\"utf-8\")"
   ]
  },
  {
   "cell_type": "code",
   "execution_count": null,
   "id": "55e3d81b",
   "metadata": {},
   "outputs": [],
   "source": [
    "my_string = bytes(\"Hello, world!\", \"utf-8\")\n",
    "\n",
    "base_64_encoded = base64.b64encode(my_string)\n",
    "base_64_encoded"
   ]
  },
  {
   "cell_type": "code",
   "execution_count": null,
   "id": "9f59dda8",
   "metadata": {},
   "outputs": [],
   "source": [
    "base_64_decoded = base64.b64decode(base_64_encoded)\n",
    "base_64_decoded"
   ]
  },
  {
   "cell_type": "code",
   "execution_count": null,
   "id": "1bed01d4",
   "metadata": {},
   "outputs": [],
   "source": []
  }
 ],
 "metadata": {
  "kernelspec": {
   "display_name": "Python 3 (ipykernel)",
   "language": "python",
   "name": "python3"
  },
  "language_info": {
   "codemirror_mode": {
    "name": "ipython",
    "version": 3
   },
   "file_extension": ".py",
   "mimetype": "text/x-python",
   "name": "python",
   "nbconvert_exporter": "python",
   "pygments_lexer": "ipython3",
   "version": "3.9.7"
  }
 },
 "nbformat": 4,
 "nbformat_minor": 5
}
