{
 "cells": [
  {
   "cell_type": "markdown",
   "id": "6167ebde",
   "metadata": {},
   "source": [
    "# Data Wrangling 1.4"
   ]
  },
  {
   "cell_type": "code",
   "execution_count": null,
   "id": "15eae35a",
   "metadata": {},
   "outputs": [],
   "source": [
    "import psycopg2\n",
    "\n",
    "import json\n",
    "\n",
    "import csv\n",
    "\n",
    "from datetime import datetime as dt"
   ]
  },
  {
   "cell_type": "code",
   "execution_count": null,
   "id": "711976c2",
   "metadata": {},
   "outputs": [],
   "source": [
    "connection = psycopg2.connect(\n",
    "    user = \"postgres\",\n",
    "    password = \"ucb\",\n",
    "    host = \"postgres\",\n",
    "    port = \"5432\",\n",
    "    database = \"postgres\"\n",
    ")"
   ]
  },
  {
   "cell_type": "code",
   "execution_count": null,
   "id": "84d8f968",
   "metadata": {},
   "outputs": [],
   "source": [
    "cursor = connection.cursor()"
   ]
  },
  {
   "cell_type": "markdown",
   "id": "6a3caf05",
   "metadata": {},
   "source": [
    "# Lab: Reading Nested JSON Files "
   ]
  },
  {
   "cell_type": "code",
   "execution_count": null,
   "id": "f12b8825",
   "metadata": {},
   "outputs": [],
   "source": [
    "def my_recursive_print_json(j, level = -1):\n",
    "    \"given a json object print it\"\n",
    "    \n",
    "    level += 1\n",
    "    \n",
    "    spaces = \"    \"\n",
    "    \n",
    "    if type(j) is dict:\n",
    "        dict_2_list = list(j.keys())\n",
    "        for k in dict_2_list:\n",
    "            print(spaces * level + k)\n",
    "            my_recursive_print_json(j[k], level)\n",
    "            \n",
    "    elif type(j) is list:\n",
    "        for (i, l) in enumerate(j):\n",
    "            print(spaces * level + \"[\" + str(i) + \"]\")\n",
    "            my_recursive_print_json(l, level)\n",
    "                  \n",
    "    else:\n",
    "        print(spaces * level + \"value:\", str(j))\n",
    "                  \n"
   ]
  },
  {
   "cell_type": "code",
   "execution_count": null,
   "id": "6a533988",
   "metadata": {},
   "outputs": [],
   "source": [
    "def my_read_nested_json(file_name):\n",
    "    \"given a file of json, read it and parse it meaningfully\"\n",
    "    \n",
    "    f = open(file_name, \"r\")\n",
    "    \n",
    "    j = json.load(f)\n",
    "    \n",
    "    f.close\n",
    "    \n",
    "    my_recursive_print_json(j)"
   ]
  },
  {
   "cell_type": "code",
   "execution_count": null,
   "id": "bfdffa02",
   "metadata": {
    "scrolled": true
   },
   "outputs": [],
   "source": [
    "my_read_nested_json(\"temp_stores_nested.json\")"
   ]
  },
  {
   "cell_type": "markdown",
   "id": "cca2e6bd",
   "metadata": {},
   "source": [
    "## You try it - we have two additional nested json files that we will extract next week;  for now, take a look at these files in the linux command line and also using the function my_read_nested_json\n",
    "\n",
    "* temp_sales_nested.json\n",
    "* temp_customers_nested.json"
   ]
  },
  {
   "cell_type": "markdown",
   "id": "613b302d",
   "metadata": {},
   "source": [
    "# Lab: Loading Nested JSON Data into SQL Database Tables"
   ]
  },
  {
   "cell_type": "code",
   "execution_count": null,
   "id": "cad7a891",
   "metadata": {},
   "outputs": [],
   "source": [
    "def my_extract_stores_nested_json_to_csv(file_name):\n",
    "    \"extract stores nested json to csv files\"\n",
    "    \n",
    "    f = open(file_name, \"r\")\n",
    "    j = json.load(f)\n",
    "    f.close()   \n",
    "    \n",
    "    store_json_list = []\n",
    "    customer_json_list = []\n",
    "    sale_json_list = []\n",
    "    line_item_json_list = []\n",
    "    \n",
    "    for store in j['stores']:\n",
    "        \n",
    "        store_json = {}\n",
    "        store_json['store_id'] = store['store_id']\n",
    "        store_json['street'] = store['street']\n",
    "        store_json['city'] = store['city']\n",
    "        store_json['state'] = store['state']\n",
    "        store_json['latitude'] = store['latitude']\n",
    "        store_json['longitude'] = store['longitude']\n",
    "        \n",
    "        store_json_list.append(store_json)\n",
    "        \n",
    "        for sale in store['sales']:\n",
    "            \n",
    "            sale_json = {}\n",
    "            sale_json['store_id'] = store['store_id']\n",
    "            sale_json['sale_id'] = sale['sale_id']\n",
    "            sale_json['customer_id'] = sale['customer']['customer_id']\n",
    "            sale_json['sale_date'] = sale['sale_date']\n",
    "            sale_json['total_amount'] = sale['total_amount']\n",
    "            \n",
    "            sale_json_list.append(sale_json)\n",
    "            \n",
    "            customer_json_list.append(sale['customer'])\n",
    "            \n",
    "            for line_item in sale['line_items']:\n",
    "                \n",
    "                line_item_json = {}\n",
    "                line_item_json['store_id'] = store['store_id']\n",
    "                line_item_json['sale_id'] = sale['sale_id']\n",
    "                line_item_json['line_item_id'] = line_item['line_item_id']\n",
    "                line_item_json['product_id'] = line_item['product']['product_id']\n",
    "                line_item_json['quantity'] = line_item['quantity']\n",
    "                \n",
    "                line_item_json_list.append(line_item_json)\n",
    "            \n",
    "    store_json_list = sorted(store_json_list, key = lambda i: i['store_id'])\n",
    "    customer_json_list = sorted(customer_json_list, key = lambda i: i['customer_id'])\n",
    "    sale_json_list = sorted(sale_json_list, key = lambda i: (i['store_id'], i['sale_id']))\n",
    "    line_item_json_list = sorted(line_item_json_list, key = lambda i: (i['store_id'], i['sale_id'], i['line_item_id']))\n",
    "    \n",
    "    dedup_customer_json_list = []\n",
    "    for customer in customer_json_list:\n",
    "        if customer not in dedup_customer_json_list:\n",
    "            dedup_customer_json_list.append(customer)\n",
    "            \n",
    "    f = open(\"temp_stores_3.csv\", \"w\")\n",
    "    dw = csv.DictWriter(f, store_json_list[0].keys())\n",
    "    dw.writeheader()\n",
    "    dw.writerows(store_json_list)\n",
    "    f.close()\n",
    "    \n",
    "    f = open(\"temp_customers_3.csv\", \"w\")\n",
    "    dw = csv.DictWriter(f, dedup_customer_json_list[0].keys())\n",
    "    dw.writeheader()\n",
    "    dw.writerows(dedup_customer_json_list)\n",
    "    f.close()\n",
    "    \n",
    "    f = open(\"temp_sales_3.csv\", \"w\")\n",
    "    dw = csv.DictWriter(f, sale_json_list[0].keys())\n",
    "    dw.writeheader()\n",
    "    dw.writerows(sale_json_list)\n",
    "    f.close()\n",
    "      \n",
    "    f = open(\"temp_line_items_3.csv\", \"w\")\n",
    "    dw = csv.DictWriter(f, line_item_json_list[0].keys())\n",
    "    dw.writeheader()\n",
    "    dw.writerows(line_item_json_list)\n",
    "    f.close()\n",
    "    "
   ]
  },
  {
   "cell_type": "code",
   "execution_count": null,
   "id": "04276206",
   "metadata": {},
   "outputs": [],
   "source": [
    "my_extract_stores_nested_json_to_csv(\"temp_stores_nested.json\")"
   ]
  },
  {
   "cell_type": "markdown",
   "id": "bf53ee53",
   "metadata": {},
   "source": [
    "## We now have csv files, which we already know how to load into database tables"
   ]
  },
  {
   "cell_type": "code",
   "execution_count": null,
   "id": "79a22b1d",
   "metadata": {},
   "outputs": [],
   "source": [
    "def my_read_csv_file(file_name, limit):\n",
    "    \"read the csv file and print only the first limit rows\"\n",
    "    \n",
    "    csv_file = open(file_name, \"r\")\n",
    "    \n",
    "    csv_data = csv.reader(csv_file)\n",
    "    \n",
    "    i = 0\n",
    "    \n",
    "    for row in csv_data:\n",
    "        i += 1\n",
    "        if i <= limit:\n",
    "            print(row)\n",
    "            \n",
    "    print(\"\\nPrinted \", min(limit, i), \"lines of \", i, \"total lines.\")"
   ]
  },
  {
   "cell_type": "code",
   "execution_count": null,
   "id": "fad56c29",
   "metadata": {},
   "outputs": [],
   "source": [
    "my_read_csv_file(\"temp_stores_3.csv\", 10)"
   ]
  },
  {
   "cell_type": "code",
   "execution_count": null,
   "id": "7b954d6f",
   "metadata": {},
   "outputs": [],
   "source": [
    "my_read_csv_file(\"temp_customers_3.csv\", 10)"
   ]
  },
  {
   "cell_type": "code",
   "execution_count": null,
   "id": "1745ec21",
   "metadata": {},
   "outputs": [],
   "source": [
    "my_read_csv_file(\"temp_sales_3.csv\", 10)"
   ]
  },
  {
   "cell_type": "code",
   "execution_count": null,
   "id": "d28cdf7c",
   "metadata": {},
   "outputs": [],
   "source": [
    "my_read_csv_file(\"temp_line_items_3.csv\", 10)"
   ]
  },
  {
   "cell_type": "markdown",
   "id": "8b4bf018",
   "metadata": {},
   "source": [
    "## You try it - the above version of my_extract_stores_nested_json_to_csv() does not extract the products;  copy and modify the function to also extract the products to the file temp_products_3.csv;  remember to remove duplicates;  products will be similar to the logic for customers"
   ]
  },
  {
   "cell_type": "markdown",
   "id": "2789746e",
   "metadata": {},
   "source": [
    "# Lab: Extracting Nested JSON Files"
   ]
  },
  {
   "cell_type": "code",
   "execution_count": null,
   "id": "00280705",
   "metadata": {},
   "outputs": [],
   "source": [
    "def my_extract_stores_nested_json(file_name):\n",
    "    \"extract nested json with stores at the top level to the file\"\n",
    "    \n",
    "    connection.rollback()\n",
    "    \n",
    "    file_json = {\"creator\": \"Acme Gourmet Meals\",\n",
    "                  \"timestamp\": dt.now().strftime(\"%Y-%d-%m %H:%M:%S\"),\n",
    "                  \"file_name\": file_name, \n",
    "                  \"version\": \"12.4.7\",\n",
    "                  \"legal\": \"Unauthorized use, duplication, or possession, blah, blah\",\n",
    "                  \"stores\": []\n",
    "                }\n",
    "        \n",
    "    query = \"\"\"\n",
    "    \n",
    "    select row_to_json(a)\n",
    "    from (select *\n",
    "          from temp_stores\n",
    "          order by store_id\n",
    "          ) as a\n",
    "           \n",
    "    \"\"\"\n",
    "    \n",
    "    cursor.execute(query)\n",
    "    \n",
    "    connection.rollback()\n",
    "\n",
    "    store_rows = cursor.fetchall()\n",
    "    \n",
    "    for store in store_rows:\n",
    "        \n",
    "        store_json = store[0]\n",
    "        store_id = store_json['store_id']\n",
    "        \n",
    "        store_json['sales'] = []\n",
    "        \n",
    "        query = \"\"\"\n",
    "\n",
    "        select row_to_json(a)\n",
    "        from (select *\n",
    "              from temp_sales\n",
    "              where store_id = %s\n",
    "              order by store_id, sale_id) as a\n",
    "              \n",
    "        \"\"\"\n",
    "        \n",
    "        cursor.execute(query, (store_id,))\n",
    "    \n",
    "        connection.rollback()\n",
    "        \n",
    "        sale_rows = cursor.fetchall()\n",
    "        \n",
    "        for sale in sale_rows:\n",
    "            \n",
    "            sale_json = sale[0]\n",
    "            sale_id = sale_json['sale_id']\n",
    "            customer_id = sale_json['customer_id']\n",
    "            \n",
    "            \n",
    "            query = \"\"\"\n",
    "\n",
    "            select row_to_json(a)\n",
    "            from (select *\n",
    "                  from temp_customers\n",
    "                  where customer_id = %s\n",
    "                  ) as a\n",
    "\n",
    "            \"\"\"\n",
    "        \n",
    "            cursor.execute(query, (customer_id,))\n",
    "    \n",
    "            connection.rollback()\n",
    "        \n",
    "            customer_row = cursor.fetchone()\n",
    "            \n",
    "            customer_json = customer_row[0]\n",
    "            \n",
    "            del sale_json['customer_id']\n",
    "            sale_json['customer'] = customer_json\n",
    "        \n",
    "            line_item_list_json = []\n",
    "            \n",
    "            query = \"\"\"\n",
    "\n",
    "            select row_to_json(a)\n",
    "            from (select *\n",
    "                  from temp_line_items\n",
    "                  where store_id = %s and sale_id = %s\n",
    "                  order by store_id, sale_id, line_item_id\n",
    "                  ) as a\n",
    "\n",
    "            \"\"\"\n",
    "        \n",
    "            cursor.execute(query, (store_id, sale_id))\n",
    "    \n",
    "            connection.rollback()\n",
    "        \n",
    "            line_item_rows = cursor.fetchall()\n",
    "            \n",
    "            for line_item_row in line_item_rows:\n",
    "                \n",
    "                line_item_json = line_item_row[0]\n",
    "                \n",
    "                del line_item_json['store_id']\n",
    "                del line_item_json['sale_id']\n",
    "                \n",
    "                line_item_list_json.append(line_item_json)\n",
    "\n",
    "            sale_json['line_items'] = line_item_list_json\n",
    "            \n",
    "            del sale_json['store_id']\n",
    "\n",
    "            store_json['sales'].append(sale_json)         \n",
    "    \n",
    "        file_json['stores'].append(store_json)\n",
    "    \n",
    "        \n",
    "    f = open(file_name, \"w\")\n",
    "    \n",
    "    json.dump(file_json, f, indent=2)\n",
    "\n",
    "    f.close()  "
   ]
  },
  {
   "cell_type": "code",
   "execution_count": null,
   "id": "470691f0",
   "metadata": {},
   "outputs": [],
   "source": [
    "my_extract_stores_nested_json(\"temp_stores_nested_2.json\")"
   ]
  },
  {
   "cell_type": "code",
   "execution_count": null,
   "id": "8c09853f",
   "metadata": {
    "scrolled": true
   },
   "outputs": [],
   "source": [
    "my_read_nested_json(\"temp_stores_nested_2.json\")"
   ]
  },
  {
   "cell_type": "markdown",
   "id": "51afe1dc",
   "metadata": {},
   "source": [
    "## the function my_extract_stores_nested_json() does not extract the products into the json file;  copy the function and modify it to also add products;  compare to the file we looked at earlier temp_stores_nested.json to see the format"
   ]
  }
 ],
 "metadata": {
  "kernelspec": {
   "display_name": "Python 3 (ipykernel)",
   "language": "python",
   "name": "python3"
  },
  "language_info": {
   "codemirror_mode": {
    "name": "ipython",
    "version": 3
   },
   "file_extension": ".py",
   "mimetype": "text/x-python",
   "name": "python",
   "nbconvert_exporter": "python",
   "pygments_lexer": "ipython3",
   "version": "3.9.7"
  }
 },
 "nbformat": 4,
 "nbformat_minor": 5
}
