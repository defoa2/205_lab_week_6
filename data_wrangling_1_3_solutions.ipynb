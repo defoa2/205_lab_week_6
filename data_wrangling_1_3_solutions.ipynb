{
 "cells": [
  {
   "cell_type": "markdown",
   "id": "6167ebde",
   "metadata": {},
   "source": [
    "# Data Wrangling 1.3 Solutions"
   ]
  },
  {
   "cell_type": "code",
   "execution_count": null,
   "id": "b71b2660",
   "metadata": {},
   "outputs": [],
   "source": [
    "import math\n",
    "import numpy as np\n",
    "import pandas as pd\n",
    "\n",
    "import psycopg2\n",
    "\n",
    "import json\n",
    "\n",
    "import csv\n",
    "\n",
    "import pprint\n",
    "\n",
    "from datetime import datetime as dt"
   ]
  },
  {
   "cell_type": "code",
   "execution_count": null,
   "id": "752ee50f",
   "metadata": {},
   "outputs": [],
   "source": [
    "connection = psycopg2.connect(\n",
    "    user = \"postgres\",\n",
    "    password = \"ucb\",\n",
    "    host = \"postgres\",\n",
    "    port = \"5432\",\n",
    "    database = \"postgres\"\n",
    ")"
   ]
  },
  {
   "cell_type": "code",
   "execution_count": null,
   "id": "e9fc8c99",
   "metadata": {},
   "outputs": [],
   "source": [
    "cursor = connection.cursor()"
   ]
  },
  {
   "cell_type": "markdown",
   "id": "693b88e3",
   "metadata": {},
   "source": [
    "## You try it - read and understand the structure of the following json files:\n",
    "\n",
    "* temp_sales_no_header.json\n",
    "* temp_sales_header.json\n",
    "* temp_sales_big_data.json\n",
    "\n",
    "* temp_line_items_no_header.json\n",
    "* temp_line_items_header.json\n",
    "* temp_line_items_big_data.json\n",
    "\n",
    "* temp_customers_no_header.json\n",
    "* temp_customers_header.json\n",
    "* temp_customers_big_data.json\n",
    "\n",
    "* temp_products_no_header.json\n",
    "* temp_products_header.json\n",
    "* temp_products_big_data.json\n",
    "\n",
    "* temp_holidays_no_header.json\n",
    "* temp_holidays_header.json\n",
    "* temp_holidays_big_data.json\n"
   ]
  },
  {
   "cell_type": "code",
   "execution_count": null,
   "id": "68cc8fc1",
   "metadata": {},
   "outputs": [],
   "source": [
    "def my_read_flat_json(file_name, limit_lines, limit_json):\n",
    "    \"read a flat json file, detect if it has a header, detect if it is in big data format\"\n",
    "    \n",
    "    print(\"------------------------------------\")\n",
    "    print(\"   \", file_name)\n",
    "    print(\"------------------------------------\")\n",
    "    \n",
    "    f = open(file_name, \"r\")\n",
    "    \n",
    "    data = f.read()\n",
    "    \n",
    "    f.close()\n",
    "    \n",
    "    lines = data.splitlines(False)\n",
    "    \n",
    "    i = 0\n",
    "    \n",
    "    for line in lines:\n",
    "        print(line)\n",
    "        i += 1\n",
    "        if i == limit_lines:\n",
    "            break\n",
    "    \n",
    "    print(\"\\n>>> Printed\", limit_lines, \"lines of\", len(lines), \"total lines.\")\n",
    "    \n",
    "    if lines[0][0] == '{' and lines[0][-1] == '}':\n",
    "        json_temp = []\n",
    "        for line in lines:\n",
    "            json_temp.append(json.loads(line))\n",
    "    else:\n",
    "        json_temp = json.loads(data)\n",
    "    \n",
    "    if type(json_temp) == dict:\n",
    "        json_list = json_temp['data']\n",
    "    else:\n",
    "        json_list = json_temp\n",
    "    \n",
    "    i = 0\n",
    "    \n",
    "    for j in json_list:\n",
    "        print(\"\\n>>>JSON Object #\", i, \"unformatted:\\n\\n\", j)\n",
    "        print(\"\\n>>>JSON Object #\", i, \"pretty printed:\\n\")\n",
    "        pprint.pprint(j, sort_dicts=False, indent=2)\n",
    "        i += 1\n",
    "        if i == limit_json:\n",
    "            break;\n",
    "\n",
    "    print('\\n')\n",
    "    "
   ]
  },
  {
   "cell_type": "code",
   "execution_count": null,
   "id": "733ef835",
   "metadata": {},
   "outputs": [],
   "source": [
    "my_read_flat_json(\"temp_sales_no_header.json\", 25, 3)"
   ]
  },
  {
   "cell_type": "code",
   "execution_count": null,
   "id": "35a11a2f",
   "metadata": {},
   "outputs": [],
   "source": [
    "my_read_flat_json(\"temp_sales_header.json\", 25, 3)"
   ]
  },
  {
   "cell_type": "code",
   "execution_count": null,
   "id": "107cefe8",
   "metadata": {},
   "outputs": [],
   "source": [
    "my_read_flat_json(\"temp_sales_big_data.json\", 25, 3)"
   ]
  },
  {
   "cell_type": "code",
   "execution_count": null,
   "id": "5e6daae1",
   "metadata": {},
   "outputs": [],
   "source": [
    "my_read_flat_json(\"temp_line_items_no_header.json\", 25, 3)"
   ]
  },
  {
   "cell_type": "code",
   "execution_count": null,
   "id": "9b33e2e1",
   "metadata": {},
   "outputs": [],
   "source": [
    "my_read_flat_json(\"temp_line_items_header.json\", 25, 3)"
   ]
  },
  {
   "cell_type": "code",
   "execution_count": null,
   "id": "42563aea",
   "metadata": {},
   "outputs": [],
   "source": [
    "my_read_flat_json(\"temp_line_items_big_data.json\", 25, 3)"
   ]
  },
  {
   "cell_type": "code",
   "execution_count": null,
   "id": "e2cc4703",
   "metadata": {},
   "outputs": [],
   "source": [
    "my_read_flat_json(\"temp_customers_no_header.json\", 25, 3)"
   ]
  },
  {
   "cell_type": "code",
   "execution_count": null,
   "id": "14bdb94f",
   "metadata": {},
   "outputs": [],
   "source": [
    "my_read_flat_json(\"temp_customers_header.json\", 25, 3)"
   ]
  },
  {
   "cell_type": "code",
   "execution_count": null,
   "id": "f97d3762",
   "metadata": {},
   "outputs": [],
   "source": [
    "my_read_flat_json(\"temp_customers_big_data.json\", 25, 3)"
   ]
  },
  {
   "cell_type": "code",
   "execution_count": null,
   "id": "c6913df3",
   "metadata": {},
   "outputs": [],
   "source": [
    "my_read_flat_json(\"temp_products_no_header.json\", 25, 3)"
   ]
  },
  {
   "cell_type": "code",
   "execution_count": null,
   "id": "d68c9498",
   "metadata": {},
   "outputs": [],
   "source": [
    "my_read_flat_json(\"temp_products_header.json\", 25, 3)"
   ]
  },
  {
   "cell_type": "code",
   "execution_count": null,
   "id": "f0cc2e3a",
   "metadata": {},
   "outputs": [],
   "source": [
    "my_read_flat_json(\"temp_products_big_data.json\", 25, 3)"
   ]
  },
  {
   "cell_type": "code",
   "execution_count": null,
   "id": "d7da1fcd",
   "metadata": {},
   "outputs": [],
   "source": [
    "my_read_flat_json(\"temp_holidays_no_header.json\", 25, 3)"
   ]
  },
  {
   "cell_type": "code",
   "execution_count": null,
   "id": "dffd58ba",
   "metadata": {},
   "outputs": [],
   "source": [
    "my_read_flat_json(\"temp_holidays_header.json\", 25, 3)"
   ]
  },
  {
   "cell_type": "code",
   "execution_count": null,
   "id": "2555894e",
   "metadata": {},
   "outputs": [],
   "source": [
    "my_read_flat_json(\"temp_holidays_big_data.json\", 25, 3)\n"
   ]
  },
  {
   "cell_type": "markdown",
   "id": "dc57deeb",
   "metadata": {},
   "source": [
    "## You try it - convert the following flat json files to csv format;  read the csv files to verify that they are ready for loading into a database:\n",
    "\n",
    "\n",
    "* temp_sales_no_header.json\n",
    "* temp_sales_header.json\n",
    "* temp_sales_big_data.json\n",
    "\n",
    "* temp_line_items_no_header.json\n",
    "* temp_line_items_header.json\n",
    "* temp_line_items_big_data.json\n",
    "\n",
    "* temp_customers_no_header.json\n",
    "* temp_customers_header.json\n",
    "* temp_customers_big_data.json\n",
    "\n",
    "* temp_products_no_header.json\n",
    "* temp_products_header.json\n",
    "* temp_products_big_data.json\n",
    "\n",
    "* temp_holidays_no_header.json\n",
    "* temp_holidays_header.json\n",
    "* temp_holidays_big_data.json\n"
   ]
  },
  {
   "cell_type": "code",
   "execution_count": null,
   "id": "f847202c",
   "metadata": {},
   "outputs": [],
   "source": [
    "def my_flat_json_2_csv(file_name):\n",
    "    \"read a flat json file, convert to csv\"\n",
    "        \n",
    "    f = open(file_name, \"r\")\n",
    "    \n",
    "    data = f.read()\n",
    "    \n",
    "    f.close()\n",
    "    \n",
    "    output_file_name = file_name[:-4] + \"csv\"\n",
    "    \n",
    "    f = open(output_file_name, \"w\")\n",
    "    \n",
    "    lines = data.splitlines(False)\n",
    "    \n",
    "    if lines[0][0] == '{' and lines[0][-1] == '}':\n",
    "        json_temp = []\n",
    "        for line in lines:\n",
    "            json_temp.append(json.loads(line))\n",
    "    else:\n",
    "        json_temp = json.loads(data)\n",
    "    \n",
    "    if type(json_temp) == dict:\n",
    "        json_list = json_temp['data']\n",
    "    else:\n",
    "        json_list = json_temp\n",
    "    \n",
    "    dw = csv.DictWriter(f, json_list[0].keys())\n",
    "    dw.writeheader()\n",
    "    dw.writerows(json_list)\n",
    "    \n",
    "    f.close()"
   ]
  },
  {
   "cell_type": "code",
   "execution_count": null,
   "id": "d55c264c",
   "metadata": {},
   "outputs": [],
   "source": [
    "def my_read_csv_file(file_name, limit):\n",
    "    \"read the csv file and print only the first limit rows\"\n",
    "    \n",
    "    csv_file = open(file_name, \"r\")\n",
    "    \n",
    "    csv_data = csv.reader(csv_file)\n",
    "    \n",
    "    i = 0\n",
    "    \n",
    "    for row in csv_data:\n",
    "        i += 1\n",
    "        if i <= limit:\n",
    "            print(row)\n",
    "            \n",
    "    print(\"\\nPrinted \", min(limit, i), \"lines of \", i, \"total lines.\")"
   ]
  },
  {
   "cell_type": "code",
   "execution_count": null,
   "id": "6e3c4b09",
   "metadata": {},
   "outputs": [],
   "source": [
    "my_flat_json_2_csv(\"temp_sales_no_header.json\")"
   ]
  },
  {
   "cell_type": "code",
   "execution_count": null,
   "id": "9264eee0",
   "metadata": {},
   "outputs": [],
   "source": [
    "my_flat_json_2_csv(\"temp_sales_header.json\")"
   ]
  },
  {
   "cell_type": "code",
   "execution_count": null,
   "id": "c5b969eb",
   "metadata": {},
   "outputs": [],
   "source": [
    "my_flat_json_2_csv(\"temp_sales_big_data.json\")"
   ]
  },
  {
   "cell_type": "code",
   "execution_count": null,
   "id": "3e8cb4f9",
   "metadata": {},
   "outputs": [],
   "source": [
    "my_flat_json_2_csv(\"temp_line_items_no_header.json\")"
   ]
  },
  {
   "cell_type": "code",
   "execution_count": null,
   "id": "1934c78c",
   "metadata": {},
   "outputs": [],
   "source": [
    "my_flat_json_2_csv(\"temp_line_items_header.json\")"
   ]
  },
  {
   "cell_type": "code",
   "execution_count": null,
   "id": "cec7895c",
   "metadata": {},
   "outputs": [],
   "source": [
    "my_flat_json_2_csv(\"temp_line_items_big_data.json\")"
   ]
  },
  {
   "cell_type": "code",
   "execution_count": null,
   "id": "97678c9f",
   "metadata": {},
   "outputs": [],
   "source": [
    "my_flat_json_2_csv(\"temp_customers_no_header.json\")"
   ]
  },
  {
   "cell_type": "code",
   "execution_count": null,
   "id": "4c277f38",
   "metadata": {},
   "outputs": [],
   "source": [
    "my_flat_json_2_csv(\"temp_customers_header.json\")"
   ]
  },
  {
   "cell_type": "code",
   "execution_count": null,
   "id": "9269d9c8",
   "metadata": {},
   "outputs": [],
   "source": [
    "my_flat_json_2_csv(\"temp_customers_big_data.json\")"
   ]
  },
  {
   "cell_type": "code",
   "execution_count": null,
   "id": "84485333",
   "metadata": {},
   "outputs": [],
   "source": [
    "my_flat_json_2_csv(\"temp_products_no_header.json\")"
   ]
  },
  {
   "cell_type": "code",
   "execution_count": null,
   "id": "7f8e8cc4",
   "metadata": {},
   "outputs": [],
   "source": [
    "my_flat_json_2_csv(\"temp_products_header.json\")"
   ]
  },
  {
   "cell_type": "code",
   "execution_count": null,
   "id": "29e4b05c",
   "metadata": {},
   "outputs": [],
   "source": [
    "my_flat_json_2_csv(\"temp_products_big_data.json\")"
   ]
  },
  {
   "cell_type": "code",
   "execution_count": null,
   "id": "cff94102",
   "metadata": {},
   "outputs": [],
   "source": [
    "my_flat_json_2_csv(\"temp_holidays_no_header.json\")"
   ]
  },
  {
   "cell_type": "code",
   "execution_count": null,
   "id": "4d0f07e4",
   "metadata": {},
   "outputs": [],
   "source": [
    "my_flat_json_2_csv(\"temp_holidays_header.json\")"
   ]
  },
  {
   "cell_type": "code",
   "execution_count": null,
   "id": "96b5a386",
   "metadata": {},
   "outputs": [],
   "source": [
    "my_flat_json_2_csv(\"temp_holidays_big_data.json\")"
   ]
  },
  {
   "cell_type": "code",
   "execution_count": null,
   "id": "59a6c696",
   "metadata": {},
   "outputs": [],
   "source": [
    "my_read_csv_file(\"temp_sales_no_header.csv\", 25)"
   ]
  },
  {
   "cell_type": "code",
   "execution_count": null,
   "id": "1fa39d6a",
   "metadata": {},
   "outputs": [],
   "source": [
    "my_read_csv_file(\"temp_sales_header.csv\", 25)"
   ]
  },
  {
   "cell_type": "code",
   "execution_count": null,
   "id": "8292b6b1",
   "metadata": {},
   "outputs": [],
   "source": [
    "my_read_csv_file(\"temp_sales_big_data.csv\", 25)"
   ]
  },
  {
   "cell_type": "code",
   "execution_count": null,
   "id": "f736b59e",
   "metadata": {},
   "outputs": [],
   "source": [
    "my_read_csv_file(\"temp_line_items_no_header.csv\", 25)"
   ]
  },
  {
   "cell_type": "code",
   "execution_count": null,
   "id": "27f2a0fa",
   "metadata": {},
   "outputs": [],
   "source": [
    "my_read_csv_file(\"temp_line_items_header.csv\", 25)"
   ]
  },
  {
   "cell_type": "code",
   "execution_count": null,
   "id": "e0af1233",
   "metadata": {},
   "outputs": [],
   "source": [
    "my_read_csv_file(\"temp_line_items_big_data.csv\", 25)"
   ]
  },
  {
   "cell_type": "code",
   "execution_count": null,
   "id": "506e91f4",
   "metadata": {},
   "outputs": [],
   "source": [
    "my_read_csv_file(\"temp_customers_no_header.csv\", 25)"
   ]
  },
  {
   "cell_type": "code",
   "execution_count": null,
   "id": "11ad4812",
   "metadata": {},
   "outputs": [],
   "source": [
    "my_read_csv_file(\"temp_customers_header.csv\", 25)"
   ]
  },
  {
   "cell_type": "code",
   "execution_count": null,
   "id": "aeb4a6c3",
   "metadata": {},
   "outputs": [],
   "source": [
    "my_read_csv_file(\"temp_customers_big_data.csv\", 25)"
   ]
  },
  {
   "cell_type": "code",
   "execution_count": null,
   "id": "e0ff6b60",
   "metadata": {},
   "outputs": [],
   "source": [
    "my_read_csv_file(\"temp_products_no_header.csv\", 25)"
   ]
  },
  {
   "cell_type": "code",
   "execution_count": null,
   "id": "05b449de",
   "metadata": {},
   "outputs": [],
   "source": [
    "my_read_csv_file(\"temp_products_header.csv\", 25)"
   ]
  },
  {
   "cell_type": "code",
   "execution_count": null,
   "id": "9cd039e1",
   "metadata": {},
   "outputs": [],
   "source": [
    "my_read_csv_file(\"temp_products_big_data.csv\", 25)"
   ]
  },
  {
   "cell_type": "code",
   "execution_count": null,
   "id": "9f151a21",
   "metadata": {},
   "outputs": [],
   "source": [
    "my_read_csv_file(\"temp_holidays_no_header.csv\", 25)"
   ]
  },
  {
   "cell_type": "code",
   "execution_count": null,
   "id": "a2188d33",
   "metadata": {},
   "outputs": [],
   "source": [
    "my_read_csv_file(\"temp_holidays_header.csv\", 25)"
   ]
  },
  {
   "cell_type": "code",
   "execution_count": null,
   "id": "bf652a8e",
   "metadata": {},
   "outputs": [],
   "source": [
    "my_read_csv_file(\"temp_holidays_big_data.csv\", 25)"
   ]
  },
  {
   "cell_type": "markdown",
   "id": "70007386",
   "metadata": {},
   "source": [
    "## You try it - extract the following database tables into 3 separate flat json tables (no header, header, and big data); read each file to verify:\n",
    "\n",
    "* temp_sales to temp_sales_no_header_2.json, temp_sales_header_2.json, temp_sales_big_data_2.json\n",
    "* temp_line_items to temp_line_items_no_header_2.json, temp_line_items_header_2.json, temp_line_items_big_data_2.json\n",
    "* temp_customers to temp_customers_no_header_2.json, temp_customers_header_2.json, temp_customers_big_data_2.json\n",
    "* temp_products to temp_products_no_header_2.json, temp_products_header_2.json, temp_products_big_data_2.json\n",
    "* temp_holidays to temp_holidays_no_header_2.json, temp_holidays_header_2.json, temp_holidays_big_data_2.json\n"
   ]
  },
  {
   "cell_type": "code",
   "execution_count": null,
   "id": "fb812b10",
   "metadata": {},
   "outputs": [],
   "source": [
    "def my_extract_flat_json(query, file_name, file_type):\n",
    "    \"using the query provided, extract to json, file_type: 1 = no header, 2 = header, 3 = big_data\"\n",
    "    \n",
    "    connection.rollback()\n",
    "    \n",
    "    cursor.execute(query)\n",
    "    \n",
    "    connection.rollback()\n",
    "\n",
    "    rows = cursor.fetchall()\n",
    "    \n",
    "    list_of_json = []\n",
    "    \n",
    "    for row in rows:\n",
    "        list_of_json.append(row[0])\n",
    "        \n",
    "    f = open(file_name, \"w\")\n",
    "    \n",
    "    # flat json with no headers\n",
    "    if file_type == 1:\n",
    "        json.dump(list_of_json, f, indent=2)\n",
    "    \n",
    "    # flat json with a header\n",
    "    if file_type == 2:\n",
    "        template = {\"creator\": \"Acme Gourmet Meals\",\n",
    "                    \"timestamp\": dt.now().strftime(\"%Y-%d-%m %H:%M:%S\"),\n",
    "                    \"file_name\": file_name, \n",
    "                    \"version\": \"12.4.7\",\n",
    "                    \"legal\": \"Unauthorized use, duplication, or possession, blah, blah\",\n",
    "                    \"data\": list_of_json\n",
    "                   }\n",
    "        json.dump(template, f, indent=2)\n",
    "        \n",
    "    # flat json big data style\n",
    "    if file_type == 3:\n",
    "        for j in list_of_json:\n",
    "            f.write(json.dumps(j) + \"\\n\")\n",
    "        \n",
    "    f.close()  \n",
    "    "
   ]
  },
  {
   "cell_type": "code",
   "execution_count": null,
   "id": "5a5fc576",
   "metadata": {},
   "outputs": [],
   "source": [
    "query = \"\"\"\n",
    "\n",
    "select row_to_json(a) \n",
    "from (select *\n",
    "      from temp_sales\n",
    "      order by store_id, sale_id) as a\n",
    "      \n",
    "\"\"\"\n",
    "\n",
    "my_extract_flat_json(query, \"temp_sales_no_header_2.json\", 1)\n",
    "my_extract_flat_json(query, \"temp_sales_header_2.json\", 2)\n",
    "my_extract_flat_json(query, \"temp_sales_big_data_2.json\", 3)\n"
   ]
  },
  {
   "cell_type": "code",
   "execution_count": null,
   "id": "29fd4836",
   "metadata": {},
   "outputs": [],
   "source": [
    "query = \"\"\"\n",
    "\n",
    "select row_to_json(a) \n",
    "from (select *\n",
    "      from temp_line_items\n",
    "      order by store_id, sale_id, line_item_id) as a\n",
    "      \n",
    "\"\"\"\n",
    "\n",
    "my_extract_flat_json(query, \"temp_line_items_no_header_2.json\", 1)\n",
    "my_extract_flat_json(query, \"temp_line_items_header_2.json\", 2)\n",
    "my_extract_flat_json(query, \"temp_line_items_big_data_2.json\", 3)\n"
   ]
  },
  {
   "cell_type": "code",
   "execution_count": null,
   "id": "1f9ae000",
   "metadata": {},
   "outputs": [],
   "source": [
    "query = \"\"\"\n",
    "\n",
    "select row_to_json(a) \n",
    "from (select *\n",
    "      from temp_customers\n",
    "      order by customer_id) as a\n",
    "      \n",
    "\"\"\"\n",
    "\n",
    "my_extract_flat_json(query, \"temp_customers_no_header_2.json\", 1)\n",
    "my_extract_flat_json(query, \"temp_customers_header_2.json\", 2)\n",
    "my_extract_flat_json(query, \"temp_customers_big_data_2.json\", 3)\n"
   ]
  },
  {
   "cell_type": "code",
   "execution_count": null,
   "id": "f0e20386",
   "metadata": {},
   "outputs": [],
   "source": [
    "query = \"\"\"\n",
    "\n",
    "select row_to_json(a) \n",
    "from (select *\n",
    "      from temp_products\n",
    "      order by product_id) as a\n",
    "      \n",
    "\"\"\"\n",
    "\n",
    "my_extract_flat_json(query, \"temp_products_no_header_2.json\", 1)\n",
    "my_extract_flat_json(query, \"temp_products_header_2.json\", 2)\n",
    "my_extract_flat_json(query, \"temp_products_big_data_2.json\", 3)\n"
   ]
  },
  {
   "cell_type": "code",
   "execution_count": null,
   "id": "26a236ab",
   "metadata": {},
   "outputs": [],
   "source": [
    "query = \"\"\"\n",
    "\n",
    "select row_to_json(a) \n",
    "from (select *\n",
    "      from temp_holidays\n",
    "      order by holiday_date) as a\n",
    "      \n",
    "\"\"\"\n",
    "\n",
    "my_extract_flat_json(query, \"temp_holidays_no_header_2.json\", 1)\n",
    "my_extract_flat_json(query, \"temp_holidays_header_2.json\", 2)\n",
    "my_extract_flat_json(query, \"temp_holidays_big_data_2.json\", 3)\n"
   ]
  },
  {
   "cell_type": "code",
   "execution_count": null,
   "id": "e628679f",
   "metadata": {},
   "outputs": [],
   "source": [
    "my_read_flat_json(\"temp_sales_no_header_2.json\", 25, 3)"
   ]
  },
  {
   "cell_type": "code",
   "execution_count": null,
   "id": "35adf3f0",
   "metadata": {},
   "outputs": [],
   "source": [
    "my_read_flat_json(\"temp_sales_header_2.json\", 25, 3)"
   ]
  },
  {
   "cell_type": "code",
   "execution_count": null,
   "id": "9f61d367",
   "metadata": {},
   "outputs": [],
   "source": [
    "my_read_flat_json(\"temp_sales_big_data_2.json\", 25, 3)"
   ]
  },
  {
   "cell_type": "code",
   "execution_count": null,
   "id": "bae9d36c",
   "metadata": {},
   "outputs": [],
   "source": [
    "my_read_flat_json(\"temp_line_items_no_header_2.json\", 25, 3)"
   ]
  },
  {
   "cell_type": "code",
   "execution_count": null,
   "id": "466cb5bb",
   "metadata": {},
   "outputs": [],
   "source": [
    "my_read_flat_json(\"temp_line_items_header_2.json\", 25, 3)"
   ]
  },
  {
   "cell_type": "code",
   "execution_count": null,
   "id": "849ee7bf",
   "metadata": {},
   "outputs": [],
   "source": [
    "my_read_flat_json(\"temp_line_items_big_data_2.json\", 25, 3)"
   ]
  },
  {
   "cell_type": "code",
   "execution_count": null,
   "id": "e1764f02",
   "metadata": {},
   "outputs": [],
   "source": [
    "my_read_flat_json(\"temp_customers_no_header_2.json\", 25, 3)"
   ]
  },
  {
   "cell_type": "code",
   "execution_count": null,
   "id": "531541cc",
   "metadata": {},
   "outputs": [],
   "source": [
    "my_read_flat_json(\"temp_customers_header_2.json\", 25, 3)"
   ]
  },
  {
   "cell_type": "code",
   "execution_count": null,
   "id": "7f1e86f7",
   "metadata": {},
   "outputs": [],
   "source": [
    "my_read_flat_json(\"temp_customers_big_data_2.json\", 25, 3)"
   ]
  },
  {
   "cell_type": "code",
   "execution_count": null,
   "id": "924e1d72",
   "metadata": {},
   "outputs": [],
   "source": [
    "my_read_flat_json(\"temp_products_no_header_2.json\", 25, 3)"
   ]
  },
  {
   "cell_type": "code",
   "execution_count": null,
   "id": "98d7eb0c",
   "metadata": {},
   "outputs": [],
   "source": [
    "my_read_flat_json(\"temp_products_header_2.json\", 25, 3)"
   ]
  },
  {
   "cell_type": "code",
   "execution_count": null,
   "id": "8fe20970",
   "metadata": {},
   "outputs": [],
   "source": [
    "my_read_flat_json(\"temp_products_big_data_2.json\", 25, 3)"
   ]
  },
  {
   "cell_type": "code",
   "execution_count": null,
   "id": "474ed009",
   "metadata": {},
   "outputs": [],
   "source": [
    "my_read_flat_json(\"temp_holidays_no_header_2.json\", 25, 3)"
   ]
  },
  {
   "cell_type": "code",
   "execution_count": null,
   "id": "472c85eb",
   "metadata": {},
   "outputs": [],
   "source": [
    "my_read_flat_json(\"temp_holidays_header_2.json\", 25, 3)"
   ]
  },
  {
   "cell_type": "code",
   "execution_count": null,
   "id": "ec343b6d",
   "metadata": {},
   "outputs": [],
   "source": [
    "my_read_flat_json(\"temp_holidays_big_data_2.json\", 25, 3)"
   ]
  },
  {
   "cell_type": "code",
   "execution_count": null,
   "id": "5f0e8601",
   "metadata": {},
   "outputs": [],
   "source": []
  }
 ],
 "metadata": {
  "kernelspec": {
   "display_name": "Python 3 (ipykernel)",
   "language": "python",
   "name": "python3"
  },
  "language_info": {
   "codemirror_mode": {
    "name": "ipython",
    "version": 3
   },
   "file_extension": ".py",
   "mimetype": "text/x-python",
   "name": "python",
   "nbconvert_exporter": "python",
   "pygments_lexer": "ipython3",
   "version": "3.9.7"
  }
 },
 "nbformat": 4,
 "nbformat_minor": 5
}
